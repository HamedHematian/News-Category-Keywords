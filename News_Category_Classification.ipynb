{
 "cells": [
  {
   "cell_type": "markdown",
   "metadata": {
    "id": "83xD9vTJi70h"
   },
   "source": [
    "# Libraries"
   ]
  },
  {
   "cell_type": "code",
   "execution_count": 1,
   "metadata": {
    "colab": {
     "base_uri": "https://localhost:8080/"
    },
    "id": "KOvjwrvji2LW",
    "outputId": "80c1152e-7563-4a32-ce44-9bd47cf59bf3"
   },
   "outputs": [
    {
     "name": "stdout",
     "output_type": "stream",
     "text": [
      "Requirement already satisfied: transformers in /usr/local/lib/python3.7/dist-packages (4.15.0)\n",
      "Requirement already satisfied: regex!=2019.12.17 in /usr/local/lib/python3.7/dist-packages (from transformers) (2019.12.20)\n",
      "Requirement already satisfied: importlib-metadata in /usr/local/lib/python3.7/dist-packages (from transformers) (4.8.2)\n",
      "Requirement already satisfied: pyyaml>=5.1 in /usr/local/lib/python3.7/dist-packages (from transformers) (6.0)\n",
      "Requirement already satisfied: sacremoses in /usr/local/lib/python3.7/dist-packages (from transformers) (0.0.46)\n",
      "Requirement already satisfied: tokenizers<0.11,>=0.10.1 in /usr/local/lib/python3.7/dist-packages (from transformers) (0.10.3)\n",
      "Requirement already satisfied: huggingface-hub<1.0,>=0.1.0 in /usr/local/lib/python3.7/dist-packages (from transformers) (0.2.1)\n",
      "Requirement already satisfied: requests in /usr/local/lib/python3.7/dist-packages (from transformers) (2.23.0)\n",
      "Requirement already satisfied: filelock in /usr/local/lib/python3.7/dist-packages (from transformers) (3.4.0)\n",
      "Requirement already satisfied: tqdm>=4.27 in /usr/local/lib/python3.7/dist-packages (from transformers) (4.62.3)\n",
      "Requirement already satisfied: numpy>=1.17 in /usr/local/lib/python3.7/dist-packages (from transformers) (1.19.5)\n",
      "Requirement already satisfied: packaging>=20.0 in /usr/local/lib/python3.7/dist-packages (from transformers) (21.3)\n",
      "Requirement already satisfied: typing-extensions>=3.7.4.3 in /usr/local/lib/python3.7/dist-packages (from huggingface-hub<1.0,>=0.1.0->transformers) (3.10.0.2)\n",
      "Requirement already satisfied: pyparsing!=3.0.5,>=2.0.2 in /usr/local/lib/python3.7/dist-packages (from packaging>=20.0->transformers) (3.0.6)\n",
      "Requirement already satisfied: zipp>=0.5 in /usr/local/lib/python3.7/dist-packages (from importlib-metadata->transformers) (3.6.0)\n",
      "Requirement already satisfied: urllib3!=1.25.0,!=1.25.1,<1.26,>=1.21.1 in /usr/local/lib/python3.7/dist-packages (from requests->transformers) (1.24.3)\n",
      "Requirement already satisfied: chardet<4,>=3.0.2 in /usr/local/lib/python3.7/dist-packages (from requests->transformers) (3.0.4)\n",
      "Requirement already satisfied: idna<3,>=2.5 in /usr/local/lib/python3.7/dist-packages (from requests->transformers) (2.10)\n",
      "Requirement already satisfied: certifi>=2017.4.17 in /usr/local/lib/python3.7/dist-packages (from requests->transformers) (2021.10.8)\n",
      "Requirement already satisfied: click in /usr/local/lib/python3.7/dist-packages (from sacremoses->transformers) (7.1.2)\n",
      "Requirement already satisfied: six in /usr/local/lib/python3.7/dist-packages (from sacremoses->transformers) (1.15.0)\n",
      "Requirement already satisfied: joblib in /usr/local/lib/python3.7/dist-packages (from sacremoses->transformers) (1.1.0)\n",
      "Requirement already satisfied: hazm in /usr/local/lib/python3.7/dist-packages (0.7.0)\n",
      "Requirement already satisfied: nltk==3.3 in /usr/local/lib/python3.7/dist-packages (from hazm) (3.3)\n",
      "Requirement already satisfied: libwapiti>=0.2.1 in /usr/local/lib/python3.7/dist-packages (from hazm) (0.2.1)\n",
      "Requirement already satisfied: six in /usr/local/lib/python3.7/dist-packages (from nltk==3.3->hazm) (1.15.0)\n"
     ]
    }
   ],
   "source": [
    "! pip install transformers\n",
    "! pip install hazm\n",
    "from hazm import *\n",
    "import transformers\n",
    "from transformers import AdamW\n",
    "from transformers.optimization import get_linear_schedule_with_warmup\n",
    "from sklearn.metrics import f1_score, accuracy_score, confusion_matrix\n",
    "import torch\n",
    "from torch.utils.data import Dataset, DataLoader\n",
    "import torch.nn as nn\n",
    "import torch.nn.functional as F\n",
    "from torch.optim import AdamW\n",
    "import seaborn as sn\n",
    "import pandas as pd\n",
    "import matplotlib.pyplot as plt\n",
    "from tqdm import tqdm\n",
    "from sklearn.preprocessing import LabelEncoder\n",
    "from sklearn.model_selection import train_test_split\n",
    "from sklearn import preprocessing\n",
    "import json\n",
    "from copy import deepcopy\n",
    "import numpy as np\n",
    "import random\n",
    "import re\n",
    "import string\n",
    "import codecs\n",
    "from shutil import copyfile\n",
    "random.seed(12345)\n",
    "label_encoder = preprocessing.LabelEncoder()"
   ]
  },
  {
   "cell_type": "markdown",
   "metadata": {
    "id": "3VbUyg6ejG1j"
   },
   "source": [
    "# Loading & Preprocessing data"
   ]
  },
  {
   "cell_type": "code",
   "execution_count": 2,
   "metadata": {
    "colab": {
     "base_uri": "https://localhost:8080/"
    },
    "id": "W5_uzORSjJ1O",
    "outputId": "86aa11d6-92e2-46f8-bda3-c98bab12b5f9"
   },
   "outputs": [
    {
     "name": "stdout",
     "output_type": "stream",
     "text": [
      "Downloading...\n",
      "From: https://drive.google.com/uc?id=1-RsTl3O4wAuFwEhWf6CeYvEVVVt7KOhg\n",
      "To: /content/train.json\n",
      "100% 236M/236M [00:01<00:00, 159MB/s]\n",
      "Downloading...\n",
      "From: https://drive.google.com/uc?id=1-Eqj4sxyHycBBmRKWmI4wbF8JERUZfbS\n",
      "To: /content/eval.json\n",
      "100% 23.3M/23.3M [00:00<00:00, 142MB/s] \n",
      "Downloading...\n",
      "From: https://drive.google.com/uc?id=1-LZ-SDK6QmnqH5OfhtZ_rotYg8I0aW0R\n",
      "To: /content/test.json\n",
      "100% 23.6M/23.6M [00:00<00:00, 143MB/s]\n",
      "Downloading...\n",
      "From: https://drive.google.com/uc?id=1Qiq2I8EdTcgn2Wc03XqucUcMhBdVhEre\n",
      "To: /content/stopwords.txt\n",
      "100% 3.66k/3.66k [00:00<00:00, 3.08MB/s]\n",
      "Downloading...\n",
      "From: https://drive.google.com/uc?id=1-LZ-SDK6QmnqH5OfhtZ_rotYg8I0aW0R\n",
      "To: /content/test.json\n",
      "100% 23.6M/23.6M [00:00<00:00, 207MB/s]\n"
     ]
    }
   ],
   "source": [
    "# downloading data\n",
    "! gdown --id 1-RsTl3O4wAuFwEhWf6CeYvEVVVt7KOhg\n",
    "! gdown --id 1-Eqj4sxyHycBBmRKWmI4wbF8JERUZfbS\n",
    "! gdown --id 1-LZ-SDK6QmnqH5OfhtZ_rotYg8I0aW0R\n",
    "# downloading persian stopwords\n",
    "! gdown --id 1Qiq2I8EdTcgn2Wc03XqucUcMhBdVhEre"
   ]
  },
  {
   "cell_type": "code",
   "execution_count": 3,
   "metadata": {
    "id": "AFKomwaXkKCh"
   },
   "outputs": [],
   "source": [
    "# loading raw train and val data\n",
    "with open('train.json') as f_train:\n",
    "  raw_train_data = json.load(f_train)\n",
    "\n",
    "with open('eval.json') as f_eval:\n",
    "  raw_eval_data = json.load(f_eval)\n",
    "\n",
    "with open('test.json') as f_test:\n",
    "  raw_test_data = json.load(f_test)"
   ]
  },
  {
   "cell_type": "code",
   "execution_count": 4,
   "metadata": {
    "id": "GZOVxkTvteN_"
   },
   "outputs": [],
   "source": [
    "class Preprocessing:\n",
    "\n",
    "  @staticmethod\n",
    "  def remove_punctuations(text):\n",
    "    new_text = []\n",
    "    for l in text:\n",
    "      if l not in string.punctuation + '\\u00AB' + '\\u00BB' + '\\u060C' + '\\u061B' + '\\u061F':\n",
    "        new_text.append(l)\n",
    "      else:\n",
    "        new_text.append(' ')\n",
    "    return ''.join(new_text)\n",
    "  \n",
    "  @staticmethod\n",
    "  def remove_numbers(text):\n",
    "    new_text = []\n",
    "    for l in text:\n",
    "      if l not in '0123456789۰۱۲۳۴۵۶۷۸۹':\n",
    "        new_text.append(l)\n",
    "      else:\n",
    "        new_text.append(' ')\n",
    "    return ''.join(new_text)\n",
    "\n",
    "  @staticmethod\n",
    "  def remove_stopwords(text):\n",
    "    normalizer = Normalizer()\n",
    "    stopwords = [normalizer.normalize(x.strip()) for x in codecs.open('stopwords.txt','r','utf-8').readlines()]\n",
    "    tokens = word_tokenize(text)\n",
    "    new_text = []\n",
    "    for token in tokens:\n",
    "      if token not in stopwords:\n",
    "        new_text.append(token)\n",
    "      else:\n",
    "        new_text.append(' ')\n",
    "    return ' '.join(new_text)\n",
    "\n",
    "  @staticmethod\n",
    "  def remove_extra_space(text):\n",
    "    new_text = re.sub(r'\\s+',' ',text)\n",
    "    return new_text"
   ]
  },
  {
   "cell_type": "code",
   "execution_count": 5,
   "metadata": {
    "colab": {
     "base_uri": "https://localhost:8080/"
    },
    "id": "AC_nr1R4mf5E",
    "outputId": "60e7215a-38e6-4a9a-83a0-75dea2ea1139"
   },
   "outputs": [
    {
     "name": "stderr",
     "output_type": "stream",
     "text": [
      "100%|██████████| 20000/20000 [00:00<00:00, 29114.78it/s]\n",
      "100%|██████████| 2000/2000 [00:00<00:00, 28382.47it/s]\n",
      "100%|██████████| 2000/2000 [00:00<00:00, 28997.63it/s]\n"
     ]
    }
   ],
   "source": [
    "# a class to hold our data structure\n",
    "class Data:\n",
    "\n",
    "  def __init__(self, data, preprocessing=False):\n",
    "    self.abstract = data['abstract']\n",
    "    self.title = data['title']\n",
    "    self.text = data['text']\n",
    "    self.category = data['category']\n",
    "    self.label = label_encoder.transform([self.category])[0]\n",
    "\n",
    "# label encoder\n",
    "all_labels = [data['category'] for data in raw_train_data]\n",
    "label_encoder.fit(all_labels)\n",
    "classes = label_encoder.classes_\n",
    "\n",
    "# convert raw data into Data objects\n",
    "train_data = []\n",
    "for data in tqdm(raw_train_data):\n",
    "  train_data.append(Data(data, True))\n",
    "\n",
    "eval_data = []\n",
    "for data in tqdm(raw_eval_data):\n",
    "  eval_data.append(Data(data, True))\n",
    "\n",
    "test_data = []\n",
    "for data in tqdm(raw_test_data):\n",
    "  test_data.append(Data(data, True))"
   ]
  },
  {
   "cell_type": "code",
   "execution_count": 6,
   "metadata": {
    "id": "DWN5FoSdpeRT"
   },
   "outputs": [],
   "source": [
    "# a function to get a portion of data with acquired preprocessings\n",
    "def get_data(train_data, eval_data, test_data, sample_size, preproces={\n",
    "    'remove_stopwords': True,\n",
    "    'remove_punctuations': True,\n",
    "    'remove_numbers': True}):\n",
    "  random.seed(12345)\n",
    "  random.shuffle(train_data)\n",
    "  random.shuffle(eval_data)\n",
    "  train_data = train_data[:int(sample_size * len(train_data))]\n",
    "\n",
    "  # applying preprocessings on train data\n",
    "  for i, data in enumerate(tqdm(train_data)):\n",
    "    if preproces['remove_stopwords'] == True:\n",
    "      train_data[i].text = Preprocessing.remove_stopwords(data.text)\n",
    "    if preproces['remove_punctuations'] == True:\n",
    "      train_data[i].text = Preprocessing.remove_punctuations(data.text)\n",
    "    if preproces['remove_numbers'] == True:\n",
    "      train_data[i].text = Preprocessing.remove_numbers(data.text)\n",
    "    train_data[i].text = Preprocessing.remove_extra_space(data.text)\n",
    "\n",
    "  # applying preprocessings on eval data\n",
    "  for i, data in enumerate(tqdm(eval_data)):\n",
    "    if preproces['remove_stopwords'] == True:\n",
    "      eval_data[i].text = Preprocessing.remove_stopwords(data.text)\n",
    "    if preproces['remove_punctuations'] == True:\n",
    "      eval_data[i].text = Preprocessing.remove_punctuations(data.text)\n",
    "    if preproces['remove_numbers'] == True:\n",
    "      eval_data[i].text = Preprocessing.remove_numbers(data.text)\n",
    "    eval_data[i].text = Preprocessing.remove_extra_space(data.text)\n",
    "\n",
    "  # applying preprocessings on test data\n",
    "  for i, data in enumerate(tqdm(test_data)):\n",
    "    if preproces['remove_stopwords'] == True:\n",
    "      test_data[i].text = Preprocessing.remove_stopwords(data.text)\n",
    "    if preproces['remove_punctuations'] == True:\n",
    "      test_data[i].text = Preprocessing.remove_punctuations(data.text)\n",
    "    if preproces['remove_numbers'] == True:\n",
    "      test_data[i].text = Preprocessing.remove_numbers(data.text)\n",
    "    test_data[i].text = Preprocessing.remove_extra_space(data.text)\n",
    "\n",
    "  return train_data, eval_data, test_data"
   ]
  },
  {
   "cell_type": "markdown",
   "metadata": {
    "id": "exQ1hdMujCZ6"
   },
   "source": [
    "# Logistic regression (Method 1)"
   ]
  },
  {
   "cell_type": "markdown",
   "metadata": {
    "id": "nN12agBI9sBa"
   },
   "source": [
    "## Preparing Data for TF-IDF"
   ]
  },
  {
   "cell_type": "code",
   "execution_count": 7,
   "metadata": {
    "colab": {
     "base_uri": "https://localhost:8080/"
    },
    "id": "ZH_GdgqVjMiE",
    "outputId": "33a09f58-8b88-46a2-f50a-4cfadfda8e6d"
   },
   "outputs": [
    {
     "name": "stderr",
     "output_type": "stream",
     "text": [
      "100%|██████████| 20000/20000 [00:02<00:00, 6984.87it/s]\n",
      "100%|██████████| 2000/2000 [00:00<00:00, 6936.73it/s]\n",
      "100%|██████████| 2000/2000 [00:00<00:00, 6751.66it/s]\n"
     ]
    }
   ],
   "source": [
    "lr_train_data, lr_eval_data, lr_test_data = get_data(train_data, eval_data, test_data, sample_size=1, preproces={\n",
    "    'remove_stopwords': False,\n",
    "    'remove_punctuations': False,\n",
    "    'remove_numbers': False})"
   ]
  },
  {
   "cell_type": "code",
   "execution_count": 8,
   "metadata": {
    "colab": {
     "base_uri": "https://localhost:8080/",
     "height": 268
    },
    "id": "8oZ9-lL0z8_1",
    "outputId": "fe4f84b9-ea21-4d87-ece7-742cc3719b31"
   },
   "outputs": [
    {
     "name": "stdout",
     "output_type": "stream",
     "text": [
      "(20000, 4)\n"
     ]
    },
    {
     "data": {
      "text/html": [
       "\n",
       "  <div id=\"df-d594b1e8-75a9-4fc8-adfb-af11b8ccfd55\">\n",
       "    <div class=\"colab-df-container\">\n",
       "      <div>\n",
       "<style scoped>\n",
       "    .dataframe tbody tr th:only-of-type {\n",
       "        vertical-align: middle;\n",
       "    }\n",
       "\n",
       "    .dataframe tbody tr th {\n",
       "        vertical-align: top;\n",
       "    }\n",
       "\n",
       "    .dataframe thead th {\n",
       "        text-align: right;\n",
       "    }\n",
       "</style>\n",
       "<table border=\"1\" class=\"dataframe\">\n",
       "  <thead>\n",
       "    <tr style=\"text-align: right;\">\n",
       "      <th></th>\n",
       "      <th>title</th>\n",
       "      <th>abstract</th>\n",
       "      <th>text</th>\n",
       "      <th>category</th>\n",
       "    </tr>\n",
       "  </thead>\n",
       "  <tbody>\n",
       "    <tr>\n",
       "      <th>0</th>\n",
       "      <td>سرمربی فوتبال سیرجان: بازی با ملوان را آسان نم...</td>\n",
       "      <td>سرمربی تیم فوتبال بانوان شهرداری سیرجان گفت: م...</td>\n",
       "      <td>به گزارش خبرنگار ورزشی خبرگزاری فارس، تیم فوتب...</td>\n",
       "      <td>sports</td>\n",
       "    </tr>\n",
       "    <tr>\n",
       "      <th>1</th>\n",
       "      <td>ساخت آنتی بادی؛  درمان بعدی برای ویروس کرونا</td>\n",
       "      <td>با توجه به اینکه دنیا در انتظار واکسن کووید 19...</td>\n",
       "      <td>به گزارش خبرنگار گروه علمی و دانشگاهی خبرگزاری...</td>\n",
       "      <td>scientific-academic</td>\n",
       "    </tr>\n",
       "    <tr>\n",
       "      <th>2</th>\n",
       "      <td>الاخبار| تلاش آمریکا برای تغییر مأموریت «یونیف...</td>\n",
       "      <td>یک روزنامه لبنانی اعلام کرد، آمریکا  در حال ان...</td>\n",
       "      <td>به گزارش گروه بین‌الملل خبرگزاری فارس، روزنامه...</td>\n",
       "      <td>world</td>\n",
       "    </tr>\n",
       "    <tr>\n",
       "      <th>3</th>\n",
       "      <td>برنامه ریزی جهت اتصال خطوط مترو به مراکز بیمار...</td>\n",
       "      <td>رئیس سازمان پیشگیری و مدیریت بحران شهر تهران ب...</td>\n",
       "      <td>به گزارش گروه شهری خبرگزاری فارس، رضا کرمی محم...</td>\n",
       "      <td>social</td>\n",
       "    </tr>\n",
       "    <tr>\n",
       "      <th>4</th>\n",
       "      <td>اقدامات دولت‌ها به منظور حمایت از مستاجران در ...</td>\n",
       "      <td>مرکز پژوهش‌های مجلس با  تاکید بر اینکه مداخله ...</td>\n",
       "      <td>به گزارش خبرگزاری فارس، مرکز پژوهش‌های مجلس شو...</td>\n",
       "      <td>economy</td>\n",
       "    </tr>\n",
       "  </tbody>\n",
       "</table>\n",
       "</div>\n",
       "      <button class=\"colab-df-convert\" onclick=\"convertToInteractive('df-d594b1e8-75a9-4fc8-adfb-af11b8ccfd55')\"\n",
       "              title=\"Convert this dataframe to an interactive table.\"\n",
       "              style=\"display:none;\">\n",
       "        \n",
       "  <svg xmlns=\"http://www.w3.org/2000/svg\" height=\"24px\"viewBox=\"0 0 24 24\"\n",
       "       width=\"24px\">\n",
       "    <path d=\"M0 0h24v24H0V0z\" fill=\"none\"/>\n",
       "    <path d=\"M18.56 5.44l.94 2.06.94-2.06 2.06-.94-2.06-.94-.94-2.06-.94 2.06-2.06.94zm-11 1L8.5 8.5l.94-2.06 2.06-.94-2.06-.94L8.5 2.5l-.94 2.06-2.06.94zm10 10l.94 2.06.94-2.06 2.06-.94-2.06-.94-.94-2.06-.94 2.06-2.06.94z\"/><path d=\"M17.41 7.96l-1.37-1.37c-.4-.4-.92-.59-1.43-.59-.52 0-1.04.2-1.43.59L10.3 9.45l-7.72 7.72c-.78.78-.78 2.05 0 2.83L4 21.41c.39.39.9.59 1.41.59.51 0 1.02-.2 1.41-.59l7.78-7.78 2.81-2.81c.8-.78.8-2.07 0-2.86zM5.41 20L4 18.59l7.72-7.72 1.47 1.35L5.41 20z\"/>\n",
       "  </svg>\n",
       "      </button>\n",
       "      \n",
       "  <style>\n",
       "    .colab-df-container {\n",
       "      display:flex;\n",
       "      flex-wrap:wrap;\n",
       "      gap: 12px;\n",
       "    }\n",
       "\n",
       "    .colab-df-convert {\n",
       "      background-color: #E8F0FE;\n",
       "      border: none;\n",
       "      border-radius: 50%;\n",
       "      cursor: pointer;\n",
       "      display: none;\n",
       "      fill: #1967D2;\n",
       "      height: 32px;\n",
       "      padding: 0 0 0 0;\n",
       "      width: 32px;\n",
       "    }\n",
       "\n",
       "    .colab-df-convert:hover {\n",
       "      background-color: #E2EBFA;\n",
       "      box-shadow: 0px 1px 2px rgba(60, 64, 67, 0.3), 0px 1px 3px 1px rgba(60, 64, 67, 0.15);\n",
       "      fill: #174EA6;\n",
       "    }\n",
       "\n",
       "    [theme=dark] .colab-df-convert {\n",
       "      background-color: #3B4455;\n",
       "      fill: #D2E3FC;\n",
       "    }\n",
       "\n",
       "    [theme=dark] .colab-df-convert:hover {\n",
       "      background-color: #434B5C;\n",
       "      box-shadow: 0px 1px 3px 1px rgba(0, 0, 0, 0.15);\n",
       "      filter: drop-shadow(0px 1px 2px rgba(0, 0, 0, 0.3));\n",
       "      fill: #FFFFFF;\n",
       "    }\n",
       "  </style>\n",
       "\n",
       "      <script>\n",
       "        const buttonEl =\n",
       "          document.querySelector('#df-d594b1e8-75a9-4fc8-adfb-af11b8ccfd55 button.colab-df-convert');\n",
       "        buttonEl.style.display =\n",
       "          google.colab.kernel.accessAllowed ? 'block' : 'none';\n",
       "\n",
       "        async function convertToInteractive(key) {\n",
       "          const element = document.querySelector('#df-d594b1e8-75a9-4fc8-adfb-af11b8ccfd55');\n",
       "          const dataTable =\n",
       "            await google.colab.kernel.invokeFunction('convertToInteractive',\n",
       "                                                     [key], {});\n",
       "          if (!dataTable) return;\n",
       "\n",
       "          const docLinkHtml = 'Like what you see? Visit the ' +\n",
       "            '<a target=\"_blank\" href=https://colab.research.google.com/notebooks/data_table.ipynb>data table notebook</a>'\n",
       "            + ' to learn more about interactive tables.';\n",
       "          element.innerHTML = '';\n",
       "          dataTable['output_type'] = 'display_data';\n",
       "          await google.colab.output.renderOutput(dataTable, element);\n",
       "          const docLink = document.createElement('div');\n",
       "          docLink.innerHTML = docLinkHtml;\n",
       "          element.appendChild(docLink);\n",
       "        }\n",
       "      </script>\n",
       "    </div>\n",
       "  </div>\n",
       "  "
      ],
      "text/plain": [
       "                                               title  ...             category\n",
       "0  سرمربی فوتبال سیرجان: بازی با ملوان را آسان نم...  ...               sports\n",
       "1       ساخت آنتی بادی؛  درمان بعدی برای ویروس کرونا  ...  scientific-academic\n",
       "2  الاخبار| تلاش آمریکا برای تغییر مأموریت «یونیف...  ...                world\n",
       "3  برنامه ریزی جهت اتصال خطوط مترو به مراکز بیمار...  ...               social\n",
       "4  اقدامات دولت‌ها به منظور حمایت از مستاجران در ...  ...              economy\n",
       "\n",
       "[5 rows x 4 columns]"
      ]
     },
     "execution_count": 8,
     "metadata": {},
     "output_type": "execute_result"
    }
   ],
   "source": [
    "title = []\n",
    "abstract = []\n",
    "text = []\n",
    "category = []\n",
    "for i in range(len(lr_train_data)):\n",
    "    title.append(lr_train_data[i].title)\n",
    "    abstract.append(lr_train_data[i].abstract)\n",
    "    text.append(lr_train_data[i].text)\n",
    "    category.append(lr_train_data[i].category)\n",
    "\n",
    "zippedList =  list(zip(title, abstract, text, category))\n",
    "# Create a dataframe from zipped list\n",
    "train = pd.DataFrame(zippedList, columns = ['title' , 'abstract', 'text', 'category'])\n",
    "print(train.shape)\n",
    "train.head(5)"
   ]
  },
  {
   "cell_type": "code",
   "execution_count": 9,
   "metadata": {
    "colab": {
     "base_uri": "https://localhost:8080/",
     "height": 268
    },
    "id": "X0890mssOVEf",
    "outputId": "57c8ac2f-cfb6-46b9-ce0d-61de3a5a35c7"
   },
   "outputs": [
    {
     "name": "stdout",
     "output_type": "stream",
     "text": [
      "(2000, 4)\n"
     ]
    },
    {
     "data": {
      "text/html": [
       "\n",
       "  <div id=\"df-626bcd73-a0ab-4797-b3cb-ed890838702b\">\n",
       "    <div class=\"colab-df-container\">\n",
       "      <div>\n",
       "<style scoped>\n",
       "    .dataframe tbody tr th:only-of-type {\n",
       "        vertical-align: middle;\n",
       "    }\n",
       "\n",
       "    .dataframe tbody tr th {\n",
       "        vertical-align: top;\n",
       "    }\n",
       "\n",
       "    .dataframe thead th {\n",
       "        text-align: right;\n",
       "    }\n",
       "</style>\n",
       "<table border=\"1\" class=\"dataframe\">\n",
       "  <thead>\n",
       "    <tr style=\"text-align: right;\">\n",
       "      <th></th>\n",
       "      <th>title</th>\n",
       "      <th>abstract</th>\n",
       "      <th>text</th>\n",
       "      <th>category</th>\n",
       "    </tr>\n",
       "  </thead>\n",
       "  <tbody>\n",
       "    <tr>\n",
       "      <th>0</th>\n",
       "      <td>رئیس جدید شورای هوا‌فضا در جامعه همسود انتخاب شد</td>\n",
       "      <td>وزیر توسعه دیجیتال، نوآوری و صنایع هوافضا قزاق...</td>\n",
       "      <td>به گزارش خبرنگار خبرگزاری فارس در دوشنبه، «بغد...</td>\n",
       "      <td>regional-offices</td>\n",
       "    </tr>\n",
       "    <tr>\n",
       "      <th>1</th>\n",
       "      <td>واکنش مدیرعامل چادرملو به پرداخت پول به ویلموت...</td>\n",
       "      <td>مدیرعامل شرکت چادرملو ارتباط مالی با فدراسیون ...</td>\n",
       "      <td>به گزارش خبرنگار ورزشی خبرگزاری فارس، ماجرای پ...</td>\n",
       "      <td>sports</td>\n",
       "    </tr>\n",
       "    <tr>\n",
       "      <th>2</th>\n",
       "      <td>فاش شدن روابط غیراخلاقی مدیر ارشد مک دونالد 9 ...</td>\n",
       "      <td>شرکت مک دونالد 9 ماه پس از اینکه که مدیر ارشد ...</td>\n",
       "      <td>به گزارش گروه اقتصاد بین الملل فارس به نقل از ...</td>\n",
       "      <td>economy</td>\n",
       "    </tr>\n",
       "    <tr>\n",
       "      <th>3</th>\n",
       "      <td>ساندرو: در بازی برگشت یوونتوس باید بهتر  باشد</td>\n",
       "      <td>مدافع برزیلی و با تجربه یوونتوس خواستار جبران ...</td>\n",
       "      <td>به گزارش خبرگزاری فارس، شب گذشته یوونتوس گام ن...</td>\n",
       "      <td>sports</td>\n",
       "    </tr>\n",
       "    <tr>\n",
       "      <th>4</th>\n",
       "      <td>تاکید مقیمی بر سرعت فرآیند تجدید ارزیابی دارای...</td>\n",
       "      <td>مدیرعامل گروه صنعتی ایران خودرو در بازدید از خ...</td>\n",
       "      <td>اخبار شرکت‌ها- فرشاد مقیمی، در نشستی با مدیران...</td>\n",
       "      <td>economy</td>\n",
       "    </tr>\n",
       "  </tbody>\n",
       "</table>\n",
       "</div>\n",
       "      <button class=\"colab-df-convert\" onclick=\"convertToInteractive('df-626bcd73-a0ab-4797-b3cb-ed890838702b')\"\n",
       "              title=\"Convert this dataframe to an interactive table.\"\n",
       "              style=\"display:none;\">\n",
       "        \n",
       "  <svg xmlns=\"http://www.w3.org/2000/svg\" height=\"24px\"viewBox=\"0 0 24 24\"\n",
       "       width=\"24px\">\n",
       "    <path d=\"M0 0h24v24H0V0z\" fill=\"none\"/>\n",
       "    <path d=\"M18.56 5.44l.94 2.06.94-2.06 2.06-.94-2.06-.94-.94-2.06-.94 2.06-2.06.94zm-11 1L8.5 8.5l.94-2.06 2.06-.94-2.06-.94L8.5 2.5l-.94 2.06-2.06.94zm10 10l.94 2.06.94-2.06 2.06-.94-2.06-.94-.94-2.06-.94 2.06-2.06.94z\"/><path d=\"M17.41 7.96l-1.37-1.37c-.4-.4-.92-.59-1.43-.59-.52 0-1.04.2-1.43.59L10.3 9.45l-7.72 7.72c-.78.78-.78 2.05 0 2.83L4 21.41c.39.39.9.59 1.41.59.51 0 1.02-.2 1.41-.59l7.78-7.78 2.81-2.81c.8-.78.8-2.07 0-2.86zM5.41 20L4 18.59l7.72-7.72 1.47 1.35L5.41 20z\"/>\n",
       "  </svg>\n",
       "      </button>\n",
       "      \n",
       "  <style>\n",
       "    .colab-df-container {\n",
       "      display:flex;\n",
       "      flex-wrap:wrap;\n",
       "      gap: 12px;\n",
       "    }\n",
       "\n",
       "    .colab-df-convert {\n",
       "      background-color: #E8F0FE;\n",
       "      border: none;\n",
       "      border-radius: 50%;\n",
       "      cursor: pointer;\n",
       "      display: none;\n",
       "      fill: #1967D2;\n",
       "      height: 32px;\n",
       "      padding: 0 0 0 0;\n",
       "      width: 32px;\n",
       "    }\n",
       "\n",
       "    .colab-df-convert:hover {\n",
       "      background-color: #E2EBFA;\n",
       "      box-shadow: 0px 1px 2px rgba(60, 64, 67, 0.3), 0px 1px 3px 1px rgba(60, 64, 67, 0.15);\n",
       "      fill: #174EA6;\n",
       "    }\n",
       "\n",
       "    [theme=dark] .colab-df-convert {\n",
       "      background-color: #3B4455;\n",
       "      fill: #D2E3FC;\n",
       "    }\n",
       "\n",
       "    [theme=dark] .colab-df-convert:hover {\n",
       "      background-color: #434B5C;\n",
       "      box-shadow: 0px 1px 3px 1px rgba(0, 0, 0, 0.15);\n",
       "      filter: drop-shadow(0px 1px 2px rgba(0, 0, 0, 0.3));\n",
       "      fill: #FFFFFF;\n",
       "    }\n",
       "  </style>\n",
       "\n",
       "      <script>\n",
       "        const buttonEl =\n",
       "          document.querySelector('#df-626bcd73-a0ab-4797-b3cb-ed890838702b button.colab-df-convert');\n",
       "        buttonEl.style.display =\n",
       "          google.colab.kernel.accessAllowed ? 'block' : 'none';\n",
       "\n",
       "        async function convertToInteractive(key) {\n",
       "          const element = document.querySelector('#df-626bcd73-a0ab-4797-b3cb-ed890838702b');\n",
       "          const dataTable =\n",
       "            await google.colab.kernel.invokeFunction('convertToInteractive',\n",
       "                                                     [key], {});\n",
       "          if (!dataTable) return;\n",
       "\n",
       "          const docLinkHtml = 'Like what you see? Visit the ' +\n",
       "            '<a target=\"_blank\" href=https://colab.research.google.com/notebooks/data_table.ipynb>data table notebook</a>'\n",
       "            + ' to learn more about interactive tables.';\n",
       "          element.innerHTML = '';\n",
       "          dataTable['output_type'] = 'display_data';\n",
       "          await google.colab.output.renderOutput(dataTable, element);\n",
       "          const docLink = document.createElement('div');\n",
       "          docLink.innerHTML = docLinkHtml;\n",
       "          element.appendChild(docLink);\n",
       "        }\n",
       "      </script>\n",
       "    </div>\n",
       "  </div>\n",
       "  "
      ],
      "text/plain": [
       "                                               title  ...          category\n",
       "0   رئیس جدید شورای هوا‌فضا در جامعه همسود انتخاب شد  ...  regional-offices\n",
       "1  واکنش مدیرعامل چادرملو به پرداخت پول به ویلموت...  ...            sports\n",
       "2  فاش شدن روابط غیراخلاقی مدیر ارشد مک دونالد 9 ...  ...           economy\n",
       "3      ساندرو: در بازی برگشت یوونتوس باید بهتر  باشد  ...            sports\n",
       "4  تاکید مقیمی بر سرعت فرآیند تجدید ارزیابی دارای...  ...           economy\n",
       "\n",
       "[5 rows x 4 columns]"
      ]
     },
     "execution_count": 9,
     "metadata": {},
     "output_type": "execute_result"
    }
   ],
   "source": [
    "title = []\n",
    "abstract = []\n",
    "text = []\n",
    "category = []\n",
    "for i in range(len(lr_eval_data)):\n",
    "    title.append(lr_eval_data[i].title)\n",
    "    abstract.append(lr_eval_data[i].abstract)\n",
    "    text.append(lr_eval_data[i].text)\n",
    "    category.append(lr_eval_data[i].category)\n",
    "\n",
    "zippedList =  list(zip(title, abstract, text, category))\n",
    "# Create a dataframe from zipped list\n",
    "val = pd.DataFrame(zippedList, columns = ['title' , 'abstract', 'text', 'category'])\n",
    "print(val.shape)\n",
    "val.head(5)"
   ]
  },
  {
   "cell_type": "code",
   "execution_count": 10,
   "metadata": {
    "colab": {
     "base_uri": "https://localhost:8080/",
     "height": 206
    },
    "id": "-cNJHsRzz9Ck",
    "outputId": "8d940be1-3df5-433d-9fdf-c7fc0c25b1f1"
   },
   "outputs": [
    {
     "data": {
      "text/html": [
       "\n",
       "  <div id=\"df-f2195472-e109-4887-9f19-29813ae61617\">\n",
       "    <div class=\"colab-df-container\">\n",
       "      <div>\n",
       "<style scoped>\n",
       "    .dataframe tbody tr th:only-of-type {\n",
       "        vertical-align: middle;\n",
       "    }\n",
       "\n",
       "    .dataframe tbody tr th {\n",
       "        vertical-align: top;\n",
       "    }\n",
       "\n",
       "    .dataframe thead th {\n",
       "        text-align: right;\n",
       "    }\n",
       "</style>\n",
       "<table border=\"1\" class=\"dataframe\">\n",
       "  <thead>\n",
       "    <tr style=\"text-align: right;\">\n",
       "      <th></th>\n",
       "      <th>title</th>\n",
       "      <th>abstract</th>\n",
       "      <th>text</th>\n",
       "      <th>category</th>\n",
       "    </tr>\n",
       "  </thead>\n",
       "  <tbody>\n",
       "    <tr>\n",
       "      <th>0</th>\n",
       "      <td>رئیس جدید شورای هوا‌فضا در جامعه همسود انتخاب شد</td>\n",
       "      <td>وزیر توسعه دیجیتال، نوآوری و صنایع هوافضا قزاق...</td>\n",
       "      <td>به گزارش خبرنگار خبرگزاری فارس در دوشنبه، «بغد...</td>\n",
       "      <td>4</td>\n",
       "    </tr>\n",
       "    <tr>\n",
       "      <th>1</th>\n",
       "      <td>واکنش مدیرعامل چادرملو به پرداخت پول به ویلموت...</td>\n",
       "      <td>مدیرعامل شرکت چادرملو ارتباط مالی با فدراسیون ...</td>\n",
       "      <td>به گزارش خبرنگار ورزشی خبرگزاری فارس، ماجرای پ...</td>\n",
       "      <td>7</td>\n",
       "    </tr>\n",
       "    <tr>\n",
       "      <th>2</th>\n",
       "      <td>فاش شدن روابط غیراخلاقی مدیر ارشد مک دونالد 9 ...</td>\n",
       "      <td>شرکت مک دونالد 9 ماه پس از اینکه که مدیر ارشد ...</td>\n",
       "      <td>به گزارش گروه اقتصاد بین الملل فارس به نقل از ...</td>\n",
       "      <td>2</td>\n",
       "    </tr>\n",
       "    <tr>\n",
       "      <th>3</th>\n",
       "      <td>ساندرو: در بازی برگشت یوونتوس باید بهتر  باشد</td>\n",
       "      <td>مدافع برزیلی و با تجربه یوونتوس خواستار جبران ...</td>\n",
       "      <td>به گزارش خبرگزاری فارس، شب گذشته یوونتوس گام ن...</td>\n",
       "      <td>7</td>\n",
       "    </tr>\n",
       "    <tr>\n",
       "      <th>4</th>\n",
       "      <td>تاکید مقیمی بر سرعت فرآیند تجدید ارزیابی دارای...</td>\n",
       "      <td>مدیرعامل گروه صنعتی ایران خودرو در بازدید از خ...</td>\n",
       "      <td>اخبار شرکت‌ها- فرشاد مقیمی، در نشستی با مدیران...</td>\n",
       "      <td>2</td>\n",
       "    </tr>\n",
       "  </tbody>\n",
       "</table>\n",
       "</div>\n",
       "      <button class=\"colab-df-convert\" onclick=\"convertToInteractive('df-f2195472-e109-4887-9f19-29813ae61617')\"\n",
       "              title=\"Convert this dataframe to an interactive table.\"\n",
       "              style=\"display:none;\">\n",
       "        \n",
       "  <svg xmlns=\"http://www.w3.org/2000/svg\" height=\"24px\"viewBox=\"0 0 24 24\"\n",
       "       width=\"24px\">\n",
       "    <path d=\"M0 0h24v24H0V0z\" fill=\"none\"/>\n",
       "    <path d=\"M18.56 5.44l.94 2.06.94-2.06 2.06-.94-2.06-.94-.94-2.06-.94 2.06-2.06.94zm-11 1L8.5 8.5l.94-2.06 2.06-.94-2.06-.94L8.5 2.5l-.94 2.06-2.06.94zm10 10l.94 2.06.94-2.06 2.06-.94-2.06-.94-.94-2.06-.94 2.06-2.06.94z\"/><path d=\"M17.41 7.96l-1.37-1.37c-.4-.4-.92-.59-1.43-.59-.52 0-1.04.2-1.43.59L10.3 9.45l-7.72 7.72c-.78.78-.78 2.05 0 2.83L4 21.41c.39.39.9.59 1.41.59.51 0 1.02-.2 1.41-.59l7.78-7.78 2.81-2.81c.8-.78.8-2.07 0-2.86zM5.41 20L4 18.59l7.72-7.72 1.47 1.35L5.41 20z\"/>\n",
       "  </svg>\n",
       "      </button>\n",
       "      \n",
       "  <style>\n",
       "    .colab-df-container {\n",
       "      display:flex;\n",
       "      flex-wrap:wrap;\n",
       "      gap: 12px;\n",
       "    }\n",
       "\n",
       "    .colab-df-convert {\n",
       "      background-color: #E8F0FE;\n",
       "      border: none;\n",
       "      border-radius: 50%;\n",
       "      cursor: pointer;\n",
       "      display: none;\n",
       "      fill: #1967D2;\n",
       "      height: 32px;\n",
       "      padding: 0 0 0 0;\n",
       "      width: 32px;\n",
       "    }\n",
       "\n",
       "    .colab-df-convert:hover {\n",
       "      background-color: #E2EBFA;\n",
       "      box-shadow: 0px 1px 2px rgba(60, 64, 67, 0.3), 0px 1px 3px 1px rgba(60, 64, 67, 0.15);\n",
       "      fill: #174EA6;\n",
       "    }\n",
       "\n",
       "    [theme=dark] .colab-df-convert {\n",
       "      background-color: #3B4455;\n",
       "      fill: #D2E3FC;\n",
       "    }\n",
       "\n",
       "    [theme=dark] .colab-df-convert:hover {\n",
       "      background-color: #434B5C;\n",
       "      box-shadow: 0px 1px 3px 1px rgba(0, 0, 0, 0.15);\n",
       "      filter: drop-shadow(0px 1px 2px rgba(0, 0, 0, 0.3));\n",
       "      fill: #FFFFFF;\n",
       "    }\n",
       "  </style>\n",
       "\n",
       "      <script>\n",
       "        const buttonEl =\n",
       "          document.querySelector('#df-f2195472-e109-4887-9f19-29813ae61617 button.colab-df-convert');\n",
       "        buttonEl.style.display =\n",
       "          google.colab.kernel.accessAllowed ? 'block' : 'none';\n",
       "\n",
       "        async function convertToInteractive(key) {\n",
       "          const element = document.querySelector('#df-f2195472-e109-4887-9f19-29813ae61617');\n",
       "          const dataTable =\n",
       "            await google.colab.kernel.invokeFunction('convertToInteractive',\n",
       "                                                     [key], {});\n",
       "          if (!dataTable) return;\n",
       "\n",
       "          const docLinkHtml = 'Like what you see? Visit the ' +\n",
       "            '<a target=\"_blank\" href=https://colab.research.google.com/notebooks/data_table.ipynb>data table notebook</a>'\n",
       "            + ' to learn more about interactive tables.';\n",
       "          element.innerHTML = '';\n",
       "          dataTable['output_type'] = 'display_data';\n",
       "          await google.colab.output.renderOutput(dataTable, element);\n",
       "          const docLink = document.createElement('div');\n",
       "          docLink.innerHTML = docLinkHtml;\n",
       "          element.appendChild(docLink);\n",
       "        }\n",
       "      </script>\n",
       "    </div>\n",
       "  </div>\n",
       "  "
      ],
      "text/plain": [
       "                                               title  ... category\n",
       "0   رئیس جدید شورای هوا‌فضا در جامعه همسود انتخاب شد  ...        4\n",
       "1  واکنش مدیرعامل چادرملو به پرداخت پول به ویلموت...  ...        7\n",
       "2  فاش شدن روابط غیراخلاقی مدیر ارشد مک دونالد 9 ...  ...        2\n",
       "3      ساندرو: در بازی برگشت یوونتوس باید بهتر  باشد  ...        7\n",
       "4  تاکید مقیمی بر سرعت فرآیند تجدید ارزیابی دارای...  ...        2\n",
       "\n",
       "[5 rows x 4 columns]"
      ]
     },
     "execution_count": 10,
     "metadata": {},
     "output_type": "execute_result"
    }
   ],
   "source": [
    "# label encoding on labels in 'category'\n",
    "from sklearn.preprocessing import LabelEncoder\n",
    "\n",
    "train.category= LabelEncoder().fit_transform(train.category.values)\n",
    "val.category= LabelEncoder().fit_transform(val.category.values)\n",
    "val.head(5)"
   ]
  },
  {
   "cell_type": "markdown",
   "metadata": {
    "id": "Vw5lFIwJ9i0d"
   },
   "source": [
    "## BOW"
   ]
  },
  {
   "cell_type": "code",
   "execution_count": 11,
   "metadata": {
    "id": "hlHhkYy45Cpm"
   },
   "outputs": [],
   "source": [
    "# Bag-of-Words vectorization \n",
    "from sklearn.feature_extraction.text import CountVectorizer\n",
    "\n",
    "\n",
    "def count_vect(data, ngrams=(1, 2)):\n",
    "    count_vectorizer = CountVectorizer(ngram_range=ngrams)\n",
    "    emb = count_vectorizer.fit_transform(data)\n",
    "\n",
    "    return emb, count_vectorizer"
   ]
  },
  {
   "cell_type": "code",
   "execution_count": 12,
   "metadata": {
    "id": "FcX3vpJI9yv8"
   },
   "outputs": [],
   "source": [
    "train_counts, count_vectorizer = count_vect(train[\"text\"])\n",
    "val_counts = count_vectorizer.transform(val[\"text\"])"
   ]
  },
  {
   "cell_type": "markdown",
   "metadata": {
    "id": "kbjLiah99niU"
   },
   "source": [
    "## Tf-Idf"
   ]
  },
  {
   "cell_type": "code",
   "execution_count": 11,
   "metadata": {
    "id": "rAE2b-rx9p6F"
   },
   "outputs": [],
   "source": [
    "# tf-idf vectorization\n",
    "from sklearn.feature_extraction.text import TfidfVectorizer\n",
    "\n",
    "\n",
    "def tfidf(data, ngrams=(1, 2)):\n",
    "    tfidf_vectorizer = TfidfVectorizer(ngram_range=ngrams)\n",
    "    train = tfidf_vectorizer.fit_transform(data)\n",
    "\n",
    "    return train, tfidf_vectorizer"
   ]
  },
  {
   "cell_type": "code",
   "execution_count": 12,
   "metadata": {
    "id": "79HsXRXL93TT"
   },
   "outputs": [],
   "source": [
    "train_tfidf, tfidf_vectorizer = tfidf(train[\"text\"])\n",
    "val_tfidf = tfidf_vectorizer.transform(val[\"text\"])"
   ]
  },
  {
   "cell_type": "markdown",
   "metadata": {
    "id": "dUoBnRjm9qYl"
   },
   "source": [
    "## Training Models (TF-IDF)"
   ]
  },
  {
   "cell_type": "code",
   "execution_count": 13,
   "metadata": {
    "id": "IqMtZ2xu9sfF"
   },
   "outputs": [],
   "source": [
    "from sklearn.linear_model import LogisticRegression\n",
    "from sklearn.metrics import f1_score, accuracy_score"
   ]
  },
  {
   "cell_type": "code",
   "execution_count": 16,
   "metadata": {
    "id": "xBkLi_AK98Uc"
   },
   "outputs": [],
   "source": [
    "# train val split\n",
    "X_train_counts = train_counts\n",
    "y_train_counts = train[\"category\"].values\n",
    "\n",
    "X_val_counts = val_counts\n",
    "y_val_counts = val[\"category\"].values\n"
   ]
  },
  {
   "cell_type": "code",
   "execution_count": 14,
   "metadata": {
    "colab": {
     "base_uri": "https://localhost:8080/"
    },
    "id": "6lldaLZn9_M7",
    "outputId": "5312b8f7-3f88-49ab-fc40-31e4f8e4b49b"
   },
   "outputs": [
    {
     "data": {
      "text/plain": [
       "7    5017\n",
       "8    3369\n",
       "2    2512\n",
       "3    2487\n",
       "6    2463\n",
       "1    1663\n",
       "0     839\n",
       "5     828\n",
       "4     822\n",
       "Name: category, dtype: int64"
      ]
     },
     "execution_count": 14,
     "metadata": {},
     "output_type": "execute_result"
    }
   ],
   "source": [
    "# classes count values\n",
    "train[\"category\"].value_counts()"
   ]
  },
  {
   "cell_type": "code",
   "execution_count": 15,
   "metadata": {
    "id": "pULZBfmL-FGL"
   },
   "outputs": [],
   "source": [
    "X_train_tfidf = train_tfidf\n",
    "y_train_tfidf = train[\"category\"].values\n",
    "\n",
    "X_val_tfidf = val_tfidf\n",
    "y_val_tfidf = val[\"category\"].values"
   ]
  },
  {
   "cell_type": "code",
   "execution_count": 16,
   "metadata": {
    "colab": {
     "base_uri": "https://localhost:8080/"
    },
    "id": "jQxocKMa-Ha7",
    "outputId": "70c8ceef-d387-40a8-8059-1ba4865a8cee"
   },
   "outputs": [
    {
     "name": "stderr",
     "output_type": "stream",
     "text": [
      "/usr/local/lib/python3.7/dist-packages/sklearn/linear_model/_logistic.py:818: ConvergenceWarning: lbfgs failed to converge (status=1):\n",
      "STOP: TOTAL NO. of ITERATIONS REACHED LIMIT.\n",
      "\n",
      "Increase the number of iterations (max_iter) or scale the data as shown in:\n",
      "    https://scikit-learn.org/stable/modules/preprocessing.html\n",
      "Please also refer to the documentation for alternative solver options:\n",
      "    https://scikit-learn.org/stable/modules/linear_model.html#logistic-regression\n",
      "  extra_warning_msg=_LOGISTIC_SOLVER_CONVERGENCE_MSG,\n"
     ]
    },
    {
     "data": {
      "text/plain": [
       "LogisticRegression()"
      ]
     },
     "execution_count": 16,
     "metadata": {},
     "output_type": "execute_result"
    }
   ],
   "source": [
    "model_tfidf = LogisticRegression()\n",
    "model_tfidf.fit(X_train_tfidf, y_train_tfidf)"
   ]
  },
  {
   "cell_type": "code",
   "execution_count": 17,
   "metadata": {
    "colab": {
     "base_uri": "https://localhost:8080/"
    },
    "id": "6ig-Rw0P-J7b",
    "outputId": "45ffd40d-7930-41d7-c3e8-8aa7f727432b"
   },
   "outputs": [
    {
     "name": "stdout",
     "output_type": "stream",
     "text": [
      "Logestic regression TF-IDF macro f1-Score: 0.9246261231419501\n",
      "Logestic regression TF-IDF micro f1-Score: 0.9375\n",
      "Logestic regression TF-IDF acc-Score: 0.9375\n"
     ]
    }
   ],
   "source": [
    "# evaluation on validation data [tf-idf]\n",
    "y_pred_tfidf = model_tfidf.predict(X_val_tfidf)\n",
    "\n",
    "acc_tf = accuracy_score(y_val_tfidf, y_pred_tfidf)\n",
    "macro_f1_tf  = f1_score(y_val_tfidf, y_pred_tfidf, average='macro')\n",
    "micro_f1_tf  = f1_score(y_val_tfidf, y_pred_tfidf, average='micro')\n",
    "print(f\"Logestic regression TF-IDF macro f1-Score: {macro_f1_tf}\")\n",
    "print(f\"Logestic regression TF-IDF micro f1-Score: {micro_f1_tf}\")\n",
    "print(f\"Logestic regression TF-IDF acc-Score: {acc_tf}\")"
   ]
  },
  {
   "cell_type": "markdown",
   "metadata": {
    "id": "GCEv9L9T9ssM"
   },
   "source": [
    "## Test Data Prepration"
   ]
  },
  {
   "cell_type": "code",
   "execution_count": 22,
   "metadata": {
    "colab": {
     "base_uri": "https://localhost:8080/",
     "height": 268
    },
    "id": "lZqsa40I9vjj",
    "outputId": "ebf08520-8f30-4b78-f67c-7054967cb7fa"
   },
   "outputs": [
    {
     "name": "stdout",
     "output_type": "stream",
     "text": [
      "(2000, 4)\n"
     ]
    },
    {
     "data": {
      "text/html": [
       "\n",
       "  <div id=\"df-04b97f76-3ffa-4348-9f83-aea3801e49f3\">\n",
       "    <div class=\"colab-df-container\">\n",
       "      <div>\n",
       "<style scoped>\n",
       "    .dataframe tbody tr th:only-of-type {\n",
       "        vertical-align: middle;\n",
       "    }\n",
       "\n",
       "    .dataframe tbody tr th {\n",
       "        vertical-align: top;\n",
       "    }\n",
       "\n",
       "    .dataframe thead th {\n",
       "        text-align: right;\n",
       "    }\n",
       "</style>\n",
       "<table border=\"1\" class=\"dataframe\">\n",
       "  <thead>\n",
       "    <tr style=\"text-align: right;\">\n",
       "      <th></th>\n",
       "      <th>title</th>\n",
       "      <th>abstract</th>\n",
       "      <th>text</th>\n",
       "      <th>category</th>\n",
       "    </tr>\n",
       "  </thead>\n",
       "  <tbody>\n",
       "    <tr>\n",
       "      <th>0</th>\n",
       "      <td>ترتیل صفحه ۴۹۷ قرآن کریم+فیلم و متن آیات</td>\n",
       "      <td>امام علی (ع) می‌فرمایند: بدانید که این قرآن پن...</td>\n",
       "      <td>خبرگزاری فارس- گروه قرآن و فعالیت‌های دینی: ام...</td>\n",
       "      <td>culture</td>\n",
       "    </tr>\n",
       "    <tr>\n",
       "      <th>1</th>\n",
       "      <td>رئیس سابق پارلمان عراق: سخن از ایجاد اقلیم سنی...</td>\n",
       "      <td>رئیس سابق پارلمان عراق با اشاره به اینکه سیاست...</td>\n",
       "      <td>به گزارش گروه بین‌الملل خبرگزاری فارس، «سلیم ا...</td>\n",
       "      <td>world</td>\n",
       "    </tr>\n",
       "    <tr>\n",
       "      <th>2</th>\n",
       "      <td>«عارف» دهه هشتادی چگونه آسمانی شد+عکس</td>\n",
       "      <td>پدرش می گوید خیلی مهربان بود. با همه می‌جوشید....</td>\n",
       "      <td>گروه جامعه خبرگزاری فارس - سکوت ویژگی جدا نشدن...</td>\n",
       "      <td>social</td>\n",
       "    </tr>\n",
       "    <tr>\n",
       "      <th>3</th>\n",
       "      <td>سخنگوی دولت: مدیریت اقتصادی دولت موجب شکست تحر...</td>\n",
       "      <td>علی ربیعی گفت: مدیریت اقتصادی و سیاسی دولت بود...</td>\n",
       "      <td>به گزارش خبرنگار حوزه دولت خبرگزاری فارس، علی ...</td>\n",
       "      <td>politics</td>\n",
       "    </tr>\n",
       "    <tr>\n",
       "      <th>4</th>\n",
       "      <td>نماینده عراقی: نحوه تعامل دولت الکاظمی با تواف...</td>\n",
       "      <td>یک نماینده پارلمان عراق نحوه تعامل دولت مصطفی ...</td>\n",
       "      <td>به گزارش گروه بین‌الملل خبرگزاری فارس، «احمد ا...</td>\n",
       "      <td>world</td>\n",
       "    </tr>\n",
       "  </tbody>\n",
       "</table>\n",
       "</div>\n",
       "      <button class=\"colab-df-convert\" onclick=\"convertToInteractive('df-04b97f76-3ffa-4348-9f83-aea3801e49f3')\"\n",
       "              title=\"Convert this dataframe to an interactive table.\"\n",
       "              style=\"display:none;\">\n",
       "        \n",
       "  <svg xmlns=\"http://www.w3.org/2000/svg\" height=\"24px\"viewBox=\"0 0 24 24\"\n",
       "       width=\"24px\">\n",
       "    <path d=\"M0 0h24v24H0V0z\" fill=\"none\"/>\n",
       "    <path d=\"M18.56 5.44l.94 2.06.94-2.06 2.06-.94-2.06-.94-.94-2.06-.94 2.06-2.06.94zm-11 1L8.5 8.5l.94-2.06 2.06-.94-2.06-.94L8.5 2.5l-.94 2.06-2.06.94zm10 10l.94 2.06.94-2.06 2.06-.94-2.06-.94-.94-2.06-.94 2.06-2.06.94z\"/><path d=\"M17.41 7.96l-1.37-1.37c-.4-.4-.92-.59-1.43-.59-.52 0-1.04.2-1.43.59L10.3 9.45l-7.72 7.72c-.78.78-.78 2.05 0 2.83L4 21.41c.39.39.9.59 1.41.59.51 0 1.02-.2 1.41-.59l7.78-7.78 2.81-2.81c.8-.78.8-2.07 0-2.86zM5.41 20L4 18.59l7.72-7.72 1.47 1.35L5.41 20z\"/>\n",
       "  </svg>\n",
       "      </button>\n",
       "      \n",
       "  <style>\n",
       "    .colab-df-container {\n",
       "      display:flex;\n",
       "      flex-wrap:wrap;\n",
       "      gap: 12px;\n",
       "    }\n",
       "\n",
       "    .colab-df-convert {\n",
       "      background-color: #E8F0FE;\n",
       "      border: none;\n",
       "      border-radius: 50%;\n",
       "      cursor: pointer;\n",
       "      display: none;\n",
       "      fill: #1967D2;\n",
       "      height: 32px;\n",
       "      padding: 0 0 0 0;\n",
       "      width: 32px;\n",
       "    }\n",
       "\n",
       "    .colab-df-convert:hover {\n",
       "      background-color: #E2EBFA;\n",
       "      box-shadow: 0px 1px 2px rgba(60, 64, 67, 0.3), 0px 1px 3px 1px rgba(60, 64, 67, 0.15);\n",
       "      fill: #174EA6;\n",
       "    }\n",
       "\n",
       "    [theme=dark] .colab-df-convert {\n",
       "      background-color: #3B4455;\n",
       "      fill: #D2E3FC;\n",
       "    }\n",
       "\n",
       "    [theme=dark] .colab-df-convert:hover {\n",
       "      background-color: #434B5C;\n",
       "      box-shadow: 0px 1px 3px 1px rgba(0, 0, 0, 0.15);\n",
       "      filter: drop-shadow(0px 1px 2px rgba(0, 0, 0, 0.3));\n",
       "      fill: #FFFFFF;\n",
       "    }\n",
       "  </style>\n",
       "\n",
       "      <script>\n",
       "        const buttonEl =\n",
       "          document.querySelector('#df-04b97f76-3ffa-4348-9f83-aea3801e49f3 button.colab-df-convert');\n",
       "        buttonEl.style.display =\n",
       "          google.colab.kernel.accessAllowed ? 'block' : 'none';\n",
       "\n",
       "        async function convertToInteractive(key) {\n",
       "          const element = document.querySelector('#df-04b97f76-3ffa-4348-9f83-aea3801e49f3');\n",
       "          const dataTable =\n",
       "            await google.colab.kernel.invokeFunction('convertToInteractive',\n",
       "                                                     [key], {});\n",
       "          if (!dataTable) return;\n",
       "\n",
       "          const docLinkHtml = 'Like what you see? Visit the ' +\n",
       "            '<a target=\"_blank\" href=https://colab.research.google.com/notebooks/data_table.ipynb>data table notebook</a>'\n",
       "            + ' to learn more about interactive tables.';\n",
       "          element.innerHTML = '';\n",
       "          dataTable['output_type'] = 'display_data';\n",
       "          await google.colab.output.renderOutput(dataTable, element);\n",
       "          const docLink = document.createElement('div');\n",
       "          docLink.innerHTML = docLinkHtml;\n",
       "          element.appendChild(docLink);\n",
       "        }\n",
       "      </script>\n",
       "    </div>\n",
       "  </div>\n",
       "  "
      ],
      "text/plain": [
       "                                               title  ...  category\n",
       "0           ترتیل صفحه ۴۹۷ قرآن کریم+فیلم و متن آیات  ...   culture\n",
       "1  رئیس سابق پارلمان عراق: سخن از ایجاد اقلیم سنی...  ...     world\n",
       "2              «عارف» دهه هشتادی چگونه آسمانی شد+عکس  ...    social\n",
       "3  سخنگوی دولت: مدیریت اقتصادی دولت موجب شکست تحر...  ...  politics\n",
       "4  نماینده عراقی: نحوه تعامل دولت الکاظمی با تواف...  ...     world\n",
       "\n",
       "[5 rows x 4 columns]"
      ]
     },
     "execution_count": 22,
     "metadata": {},
     "output_type": "execute_result"
    }
   ],
   "source": [
    "test = pd.read_json('/content/test.json')\n",
    "test.to_csv(index=False, sep='\\t', encoding=\"utf-8\")\n",
    "print(test.shape)\n",
    "test.head(5)"
   ]
  },
  {
   "cell_type": "code",
   "execution_count": 23,
   "metadata": {
    "colab": {
     "base_uri": "https://localhost:8080/",
     "height": 250
    },
    "id": "o_XqOT0I-QX6",
    "outputId": "84eca3d9-07aa-49c0-9cf5-025916b677d8"
   },
   "outputs": [
    {
     "data": {
      "text/html": [
       "\n",
       "  <div id=\"df-c2b5db8a-5041-403f-a657-a726d311d8c9\">\n",
       "    <div class=\"colab-df-container\">\n",
       "      <div>\n",
       "<style scoped>\n",
       "    .dataframe tbody tr th:only-of-type {\n",
       "        vertical-align: middle;\n",
       "    }\n",
       "\n",
       "    .dataframe tbody tr th {\n",
       "        vertical-align: top;\n",
       "    }\n",
       "\n",
       "    .dataframe thead th {\n",
       "        text-align: right;\n",
       "    }\n",
       "</style>\n",
       "<table border=\"1\" class=\"dataframe\">\n",
       "  <thead>\n",
       "    <tr style=\"text-align: right;\">\n",
       "      <th></th>\n",
       "      <th>title</th>\n",
       "      <th>abstract</th>\n",
       "      <th>text</th>\n",
       "      <th>category</th>\n",
       "    </tr>\n",
       "  </thead>\n",
       "  <tbody>\n",
       "    <tr>\n",
       "      <th>0</th>\n",
       "      <td>ترتیل صفحه ۴۹۷ قرآن کریم+فیلم و متن آیات</td>\n",
       "      <td>امام علی (ع) می‌فرمایند: بدانید که این قرآن پن...</td>\n",
       "      <td>خبرگزاری فارس- گروه قرآن و فعالیت‌های دینی: ام...</td>\n",
       "      <td>1</td>\n",
       "    </tr>\n",
       "    <tr>\n",
       "      <th>1</th>\n",
       "      <td>رئیس سابق پارلمان عراق: سخن از ایجاد اقلیم سنی...</td>\n",
       "      <td>رئیس سابق پارلمان عراق با اشاره به اینکه سیاست...</td>\n",
       "      <td>به گزارش گروه بین‌الملل خبرگزاری فارس، «سلیم ا...</td>\n",
       "      <td>8</td>\n",
       "    </tr>\n",
       "    <tr>\n",
       "      <th>2</th>\n",
       "      <td>«عارف» دهه هشتادی چگونه آسمانی شد+عکس</td>\n",
       "      <td>پدرش می گوید خیلی مهربان بود. با همه می‌جوشید....</td>\n",
       "      <td>گروه جامعه خبرگزاری فارس - سکوت ویژگی جدا نشدن...</td>\n",
       "      <td>6</td>\n",
       "    </tr>\n",
       "    <tr>\n",
       "      <th>3</th>\n",
       "      <td>سخنگوی دولت: مدیریت اقتصادی دولت موجب شکست تحر...</td>\n",
       "      <td>علی ربیعی گفت: مدیریت اقتصادی و سیاسی دولت بود...</td>\n",
       "      <td>به گزارش خبرنگار حوزه دولت خبرگزاری فارس، علی ...</td>\n",
       "      <td>3</td>\n",
       "    </tr>\n",
       "    <tr>\n",
       "      <th>4</th>\n",
       "      <td>نماینده عراقی: نحوه تعامل دولت الکاظمی با تواف...</td>\n",
       "      <td>یک نماینده پارلمان عراق نحوه تعامل دولت مصطفی ...</td>\n",
       "      <td>به گزارش گروه بین‌الملل خبرگزاری فارس، «احمد ا...</td>\n",
       "      <td>8</td>\n",
       "    </tr>\n",
       "  </tbody>\n",
       "</table>\n",
       "</div>\n",
       "      <button class=\"colab-df-convert\" onclick=\"convertToInteractive('df-c2b5db8a-5041-403f-a657-a726d311d8c9')\"\n",
       "              title=\"Convert this dataframe to an interactive table.\"\n",
       "              style=\"display:none;\">\n",
       "        \n",
       "  <svg xmlns=\"http://www.w3.org/2000/svg\" height=\"24px\"viewBox=\"0 0 24 24\"\n",
       "       width=\"24px\">\n",
       "    <path d=\"M0 0h24v24H0V0z\" fill=\"none\"/>\n",
       "    <path d=\"M18.56 5.44l.94 2.06.94-2.06 2.06-.94-2.06-.94-.94-2.06-.94 2.06-2.06.94zm-11 1L8.5 8.5l.94-2.06 2.06-.94-2.06-.94L8.5 2.5l-.94 2.06-2.06.94zm10 10l.94 2.06.94-2.06 2.06-.94-2.06-.94-.94-2.06-.94 2.06-2.06.94z\"/><path d=\"M17.41 7.96l-1.37-1.37c-.4-.4-.92-.59-1.43-.59-.52 0-1.04.2-1.43.59L10.3 9.45l-7.72 7.72c-.78.78-.78 2.05 0 2.83L4 21.41c.39.39.9.59 1.41.59.51 0 1.02-.2 1.41-.59l7.78-7.78 2.81-2.81c.8-.78.8-2.07 0-2.86zM5.41 20L4 18.59l7.72-7.72 1.47 1.35L5.41 20z\"/>\n",
       "  </svg>\n",
       "      </button>\n",
       "      \n",
       "  <style>\n",
       "    .colab-df-container {\n",
       "      display:flex;\n",
       "      flex-wrap:wrap;\n",
       "      gap: 12px;\n",
       "    }\n",
       "\n",
       "    .colab-df-convert {\n",
       "      background-color: #E8F0FE;\n",
       "      border: none;\n",
       "      border-radius: 50%;\n",
       "      cursor: pointer;\n",
       "      display: none;\n",
       "      fill: #1967D2;\n",
       "      height: 32px;\n",
       "      padding: 0 0 0 0;\n",
       "      width: 32px;\n",
       "    }\n",
       "\n",
       "    .colab-df-convert:hover {\n",
       "      background-color: #E2EBFA;\n",
       "      box-shadow: 0px 1px 2px rgba(60, 64, 67, 0.3), 0px 1px 3px 1px rgba(60, 64, 67, 0.15);\n",
       "      fill: #174EA6;\n",
       "    }\n",
       "\n",
       "    [theme=dark] .colab-df-convert {\n",
       "      background-color: #3B4455;\n",
       "      fill: #D2E3FC;\n",
       "    }\n",
       "\n",
       "    [theme=dark] .colab-df-convert:hover {\n",
       "      background-color: #434B5C;\n",
       "      box-shadow: 0px 1px 3px 1px rgba(0, 0, 0, 0.15);\n",
       "      filter: drop-shadow(0px 1px 2px rgba(0, 0, 0, 0.3));\n",
       "      fill: #FFFFFF;\n",
       "    }\n",
       "  </style>\n",
       "\n",
       "      <script>\n",
       "        const buttonEl =\n",
       "          document.querySelector('#df-c2b5db8a-5041-403f-a657-a726d311d8c9 button.colab-df-convert');\n",
       "        buttonEl.style.display =\n",
       "          google.colab.kernel.accessAllowed ? 'block' : 'none';\n",
       "\n",
       "        async function convertToInteractive(key) {\n",
       "          const element = document.querySelector('#df-c2b5db8a-5041-403f-a657-a726d311d8c9');\n",
       "          const dataTable =\n",
       "            await google.colab.kernel.invokeFunction('convertToInteractive',\n",
       "                                                     [key], {});\n",
       "          if (!dataTable) return;\n",
       "\n",
       "          const docLinkHtml = 'Like what you see? Visit the ' +\n",
       "            '<a target=\"_blank\" href=https://colab.research.google.com/notebooks/data_table.ipynb>data table notebook</a>'\n",
       "            + ' to learn more about interactive tables.';\n",
       "          element.innerHTML = '';\n",
       "          dataTable['output_type'] = 'display_data';\n",
       "          await google.colab.output.renderOutput(dataTable, element);\n",
       "          const docLink = document.createElement('div');\n",
       "          docLink.innerHTML = docLinkHtml;\n",
       "          element.appendChild(docLink);\n",
       "        }\n",
       "      </script>\n",
       "    </div>\n",
       "  </div>\n",
       "  "
      ],
      "text/plain": [
       "                                               title  ... category\n",
       "0           ترتیل صفحه ۴۹۷ قرآن کریم+فیلم و متن آیات  ...        1\n",
       "1  رئیس سابق پارلمان عراق: سخن از ایجاد اقلیم سنی...  ...        8\n",
       "2              «عارف» دهه هشتادی چگونه آسمانی شد+عکس  ...        6\n",
       "3  سخنگوی دولت: مدیریت اقتصادی دولت موجب شکست تحر...  ...        3\n",
       "4  نماینده عراقی: نحوه تعامل دولت الکاظمی با تواف...  ...        8\n",
       "\n",
       "[5 rows x 4 columns]"
      ]
     },
     "execution_count": 23,
     "metadata": {},
     "output_type": "execute_result"
    }
   ],
   "source": [
    "from sklearn.preprocessing import LabelEncoder\n",
    "\n",
    "test.category= LabelEncoder().fit_transform(test.category.values)\n",
    "\n",
    "test.head(5)"
   ]
  },
  {
   "cell_type": "code",
   "execution_count": 26,
   "metadata": {
    "id": "bZM8pbVX-T4y"
   },
   "outputs": [],
   "source": [
    "X_test_tf_idf = tfidf_vectorizer.transform(test[\"text\"])\n",
    "y_test_tf_idf = test[\"category\"].values"
   ]
  },
  {
   "cell_type": "markdown",
   "metadata": {
    "id": "hJ4PT1pS5QOp"
   },
   "source": [
    "## TF-IDF Test"
   ]
  },
  {
   "cell_type": "code",
   "execution_count": 28,
   "metadata": {
    "colab": {
     "base_uri": "https://localhost:8080/"
    },
    "id": "VxFuoocR5SGl",
    "outputId": "1c458026-9fa7-4210-fad5-a056930fc9f3"
   },
   "outputs": [
    {
     "name": "stdout",
     "output_type": "stream",
     "text": [
      "F1-macro 0.9197576405533964\n",
      "F1-micro 0.9375\n",
      "Accuracy 0.9375\n"
     ]
    }
   ],
   "source": [
    "y_pred_test_tf_idf = model_tfidf.predict(X_test_tf_idf)\n",
    "f1_macro = f1_score(y_test_tf_idf, y_pred_test_tf_idf, average='macro')\n",
    "f1_micro = f1_score(y_test_tf_idf, y_pred_test_tf_idf, average='micro')\n",
    "accuracy = accuracy_score(y_test_tf_idf, y_pred_test_tf_idf)\n",
    "print(f'F1-macro {f1_macro}')\n",
    "print(f'F1-micro {f1_micro}')\n",
    "print(f'Accuracy {accuracy}')"
   ]
  },
  {
   "cell_type": "code",
   "execution_count": 29,
   "metadata": {
    "colab": {
     "base_uri": "https://localhost:8080/",
     "height": 657
    },
    "id": "g31CV4Vx5SKD",
    "outputId": "2a905025-1360-4ac5-a4d2-832812b8c560"
   },
   "outputs": [
    {
     "data": {
      "text/plain": [
       "<matplotlib.axes._subplots.AxesSubplot at 0x7f725ccce350>"
      ]
     },
     "execution_count": 29,
     "metadata": {},
     "output_type": "execute_result"
    },
    {
     "data": {
      "image/png": "[encoded data removed]",
      "text/plain": [
       "<Figure size 864x648 with 2 Axes>"
      ]
     },
     "metadata": {
      "needs_background": "light"
     },
     "output_type": "display_data"
    }
   ],
   "source": [
    "c_mat = confusion_matrix(y_test_tf_idf, y_pred_test_tf_idf)\n",
    "df_cm = pd.DataFrame(c_mat, index = [i for i in classes],\n",
    "                  columns = [i for i in classes])\n",
    "plt.figure(figsize = (12,9))\n",
    "plt.title('TF-IDF Test Confusion Matrix')\n",
    "sn.heatmap(df_cm, annot=True)"
   ]
  },
  {
   "cell_type": "markdown",
   "metadata": {
    "id": "wYHyR1ToFHI5"
   },
   "source": [
    "## Extract Keywords"
   ]
  },
  {
   "cell_type": "code",
   "execution_count": 30,
   "metadata": {
    "id": "v34OCUxEKPl-"
   },
   "outputs": [],
   "source": [
    "def correct(A):\n",
    "    b = [a for a in A]\n",
    "    return list(reversed(b))"
   ]
  },
  {
   "cell_type": "code",
   "execution_count": 31,
   "metadata": {
    "id": "5TX49pMHFKJX"
   },
   "outputs": [],
   "source": [
    "important_words_idx = [[],[],[],[],[],[],[],[],[]]\n",
    "important_words = [[],[],[],[],[],[],[],[],[]]\n",
    "for i in range(len(classes)):\n",
    "  important_words_idx[i] = np.argpartition(model_tfidf.coef_[i], -40)[-40:]\n",
    "  important_words_idx[i] = important_words_idx[i][np.argsort(model_tfidf.coef_[i][important_words_idx[i]])]\n",
    "  important_words[i] = correct(zip(tfidf_vectorizer.get_feature_names_out()[important_words_idx[i]],np.around(model_tfidf.coef_[i][important_words_idx[i]],decimals=3)))"
   ]
  },
  {
   "cell_type": "code",
   "execution_count": 32,
   "metadata": {
    "colab": {
     "base_uri": "https://localhost:8080/",
     "height": 1000
    },
    "id": "5ydeHxp3M4rA",
    "outputId": "8be08076-844a-485e-aa9e-5a8f5b1a19aa"
   },
   "outputs": [
    {
     "data": {
      "text/html": [
       "\n",
       "  <div id=\"df-1b486255-691d-4cb1-bf23-82596717bd75\">\n",
       "    <div class=\"colab-df-container\">\n",
       "      <div>\n",
       "<style scoped>\n",
       "    .dataframe tbody tr th:only-of-type {\n",
       "        vertical-align: middle;\n",
       "    }\n",
       "\n",
       "    .dataframe tbody tr th {\n",
       "        vertical-align: top;\n",
       "    }\n",
       "\n",
       "    .dataframe thead th {\n",
       "        text-align: right;\n",
       "    }\n",
       "</style>\n",
       "<table border=\"1\" class=\"dataframe\">\n",
       "  <thead>\n",
       "    <tr style=\"text-align: right;\">\n",
       "      <th></th>\n",
       "      <th>arts-media</th>\n",
       "      <th>culture</th>\n",
       "      <th>economy</th>\n",
       "      <th>politics</th>\n",
       "      <th>regional-offices</th>\n",
       "      <th>scientific-academic</th>\n",
       "      <th>social</th>\n",
       "      <th>sports</th>\n",
       "      <th>world</th>\n",
       "    </tr>\n",
       "  </thead>\n",
       "  <tbody>\n",
       "    <tr>\n",
       "      <th>0</th>\n",
       "      <td>(فیلم, 6.635)</td>\n",
       "      <td>(کتاب, 7.991)</td>\n",
       "      <td>(اقتصادی, 5.184)</td>\n",
       "      <td>(مجلس, 8.071)</td>\n",
       "      <td>(افغانستان, 6.439)</td>\n",
       "      <td>(گروه علمی, 6.194)</td>\n",
       "      <td>(تهران, 6.206)</td>\n",
       "      <td>(تیم, 9.338)</td>\n",
       "      <td>(گروه بین, 7.19)</td>\n",
       "    </tr>\n",
       "    <tr>\n",
       "      <th>1</th>\n",
       "      <td>(تئاتر, 4.467)</td>\n",
       "      <td>(قرآن, 5.534)</td>\n",
       "      <td>(خبرنگار اقتصادی, 5.177)</td>\n",
       "      <td>(اسلامی, 5.204)</td>\n",
       "      <td>(تاجیکستان, 5.634)</td>\n",
       "      <td>(علمی دانشگاهی, 6.109)</td>\n",
       "      <td>(سلامت, 5.061)</td>\n",
       "      <td>(فدراسیون, 7.989)</td>\n",
       "      <td>(الملل خبرگزاری, 6.016)</td>\n",
       "    </tr>\n",
       "    <tr>\n",
       "      <th>2</th>\n",
       "      <td>(رسانه, 4.464)</td>\n",
       "      <td>(هیأت, 4.063)</td>\n",
       "      <td>(اقتصادی خبرگزاری, 5.139)</td>\n",
       "      <td>(مردم, 4.773)</td>\n",
       "      <td>(ازبکستان, 5.601)</td>\n",
       "      <td>(علمی, 6.037)</td>\n",
       "      <td>(شهری, 4.431)</td>\n",
       "      <td>(باشگاه, 7.898)</td>\n",
       "      <td>(آمریکا, 5.522)</td>\n",
       "    </tr>\n",
       "    <tr>\n",
       "      <th>3</th>\n",
       "      <td>(سریال, 4.173)</td>\n",
       "      <td>(مسجد, 3.675)</td>\n",
       "      <td>(بانک, 3.911)</td>\n",
       "      <td>(پارلمانی خبرگزاری, 4.664)</td>\n",
       "      <td>(قرقیزستان, 5.143)</td>\n",
       "      <td>(خبرنگار گروه, 5.583)</td>\n",
       "      <td>(سلامت خبرگزاری, 4.14)</td>\n",
       "      <td>(بازی, 6.762)</td>\n",
       "      <td>(بین الملل, 5.484)</td>\n",
       "    </tr>\n",
       "    <tr>\n",
       "      <th>4</th>\n",
       "      <td>(مستند, 3.449)</td>\n",
       "      <td>(حرم, 3.586)</td>\n",
       "      <td>(اقتصاد بین, 3.844)</td>\n",
       "      <td>(پارلمانی, 4.411)</td>\n",
       "      <td>(قزاقستان, 4.927)</td>\n",
       "      <td>(دانشگاهی خبرگزاری, 5.412)</td>\n",
       "      <td>(قضایی, 3.604)</td>\n",
       "      <td>(گزارش خبرگزاری, 5.874)</td>\n",
       "      <td>(الملل, 5.482)</td>\n",
       "    </tr>\n",
       "    <tr>\n",
       "      <th>5</th>\n",
       "      <td>(نمایش, 3.442)</td>\n",
       "      <td>(حج, 3.366)</td>\n",
       "      <td>(اقتصاد, 3.702)</td>\n",
       "      <td>(خبرنگار پارلمانی, 4.175)</td>\n",
       "      <td>(خبرنگار خبرگزاری, 4.844)</td>\n",
       "      <td>(دانشگاهی, 5.407)</td>\n",
       "      <td>(شهرداری, 3.561)</td>\n",
       "      <td>(لیگ, 5.283)</td>\n",
       "      <td>(گزارش گروه, 5.388)</td>\n",
       "    </tr>\n",
       "    <tr>\n",
       "      <th>6</th>\n",
       "      <td>(موسیقی, 3.323)</td>\n",
       "      <td>(ادبیات, 2.766)</td>\n",
       "      <td>(شرکت, 3.631)</td>\n",
       "      <td>(مجلس شورای, 3.747)</td>\n",
       "      <td>(ترکمنستان, 3.961)</td>\n",
       "      <td>(دانشگاه, 5.116)</td>\n",
       "      <td>(شهری خبرگزاری, 3.544)</td>\n",
       "      <td>(فوتبال, 5.093)</td>\n",
       "      <td>(گروه, 4.092)</td>\n",
       "    </tr>\n",
       "    <tr>\n",
       "      <th>7</th>\n",
       "      <td>(سینمایی, 3.266)</td>\n",
       "      <td>(امام, 2.739)</td>\n",
       "      <td>(قیمت, 3.403)</td>\n",
       "      <td>(دولت, 3.633)</td>\n",
       "      <td>(پاکستان, 3.406)</td>\n",
       "      <td>(فناوری, 4.678)</td>\n",
       "      <td>(شهر تهران, 3.478)</td>\n",
       "      <td>(مسابقات, 4.321)</td>\n",
       "      <td>(بین, 3.996)</td>\n",
       "    </tr>\n",
       "    <tr>\n",
       "      <th>8</th>\n",
       "      <td>(هنری, 3.264)</td>\n",
       "      <td>(دینی, 2.686)</td>\n",
       "      <td>(نفت, 3.195)</td>\n",
       "      <td>(شورای اسلامی, 3.624)</td>\n",
       "      <td>(این کشور, 3.143)</td>\n",
       "      <td>(فارس به, 3.159)</td>\n",
       "      <td>(آموزش, 3.053)</td>\n",
       "      <td>(ورزشی, 4.255)</td>\n",
       "      <td>(عراق, 3.943)</td>\n",
       "    </tr>\n",
       "    <tr>\n",
       "      <th>9</th>\n",
       "      <td>(رادیو, 3.149)</td>\n",
       "      <td>(های دینی, 2.594)</td>\n",
       "      <td>(تولید, 3.058)</td>\n",
       "      <td>(روحانی, 3.51)</td>\n",
       "      <td>(فارس در, 3.103)</td>\n",
       "      <td>(نقل از, 2.953)</td>\n",
       "      <td>(پلیس, 3.028)</td>\n",
       "      <td>(بازیکن, 4.02)</td>\n",
       "      <td>(سعودی, 3.436)</td>\n",
       "    </tr>\n",
       "    <tr>\n",
       "      <th>10</th>\n",
       "      <td>(تلویزیون, 2.935)</td>\n",
       "      <td>(قرآن فعالیت, 2.578)</td>\n",
       "      <td>(بازار, 3.043)</td>\n",
       "      <td>(کمیسیون, 3.343)</td>\n",
       "      <td>(در دوشنبه, 2.918)</td>\n",
       "      <td>(به نقل, 2.944)</td>\n",
       "      <td>(قوه, 3.016)</td>\n",
       "      <td>(المپیک, 3.975)</td>\n",
       "      <td>(یمن, 3.421)</td>\n",
       "    </tr>\n",
       "    <tr>\n",
       "      <th>11</th>\n",
       "      <td>(جشنواره, 2.886)</td>\n",
       "      <td>(فرهنگی, 2.436)</td>\n",
       "      <td>(کاهش, 2.725)</td>\n",
       "      <td>(شورای, 3.212)</td>\n",
       "      <td>(میلادی, 2.917)</td>\n",
       "      <td>(شرکت, 2.723)</td>\n",
       "      <td>(شهر, 2.977)</td>\n",
       "      <td>(گل, 3.623)</td>\n",
       "      <td>(صهیونیستی, 3.122)</td>\n",
       "    </tr>\n",
       "    <tr>\n",
       "      <th>12</th>\n",
       "      <td>(پخش, 2.737)</td>\n",
       "      <td>(زائران, 2.392)</td>\n",
       "      <td>(فارس به, 2.63)</td>\n",
       "      <td>(در مجلس, 2.988)</td>\n",
       "      <td>(طالبان, 2.908)</td>\n",
       "      <td>(نقل, 2.601)</td>\n",
       "      <td>(آموزش پرورش, 2.972)</td>\n",
       "      <td>(بازیکنان, 3.187)</td>\n",
       "      <td>(رژیم, 3.07)</td>\n",
       "    </tr>\n",
       "    <tr>\n",
       "      <th>13</th>\n",
       "      <td>(برنامه, 2.686)</td>\n",
       "      <td>(می, 2.387)</td>\n",
       "      <td>(صنعت, 2.564)</td>\n",
       "      <td>(سیاسی خبرگزاری, 2.903)</td>\n",
       "      <td>(گزارش خبرنگار, 2.555)</td>\n",
       "      <td>(محققان, 2.335)</td>\n",
       "      <td>(بهداشت, 2.896)</td>\n",
       "      <td>(ورزش, 3.134)</td>\n",
       "      <td>(ترامپ, 2.929)</td>\n",
       "    </tr>\n",
       "    <tr>\n",
       "      <th>14</th>\n",
       "      <td>(هنرمندان, 2.661)</td>\n",
       "      <td>(مسجد هیأت, 2.339)</td>\n",
       "      <td>(گروه اقتصاد, 2.544)</td>\n",
       "      <td>(ملت, 2.846)</td>\n",
       "      <td>(دوشنبه, 2.44)</td>\n",
       "      <td>(ارتباطات, 2.323)</td>\n",
       "      <td>(انتظامی, 2.819)</td>\n",
       "      <td>(فصل, 2.958)</td>\n",
       "      <td>(به نوشته, 2.789)</td>\n",
       "    </tr>\n",
       "    <tr>\n",
       "      <th>15</th>\n",
       "      <td>(شبکه, 2.522)</td>\n",
       "      <td>(شعر, 2.294)</td>\n",
       "      <td>(تجارت, 2.521)</td>\n",
       "      <td>(سیاسی, 2.71)</td>\n",
       "      <td>(تاشکند, 2.415)</td>\n",
       "      <td>(واکسن, 2.285)</td>\n",
       "      <td>(شورای شهر, 2.812)</td>\n",
       "      <td>(پرسپولیس, 2.928)</td>\n",
       "      <td>(این کشور, 2.761)</td>\n",
       "    </tr>\n",
       "    <tr>\n",
       "      <th>16</th>\n",
       "      <td>(کارگردانی, 2.492)</td>\n",
       "      <td>(هیأت خبرگزاری, 2.287)</td>\n",
       "      <td>(نقل, 2.503)</td>\n",
       "      <td>(نماینده مردم, 2.662)</td>\n",
       "      <td>(ای خبرگزاری, 2.376)</td>\n",
       "      <td>(گروه, 2.222)</td>\n",
       "      <td>(خبرنگار سلامت, 2.777)</td>\n",
       "      <td>(خبرنگار ورزشی, 2.75)</td>\n",
       "      <td>(نوشته, 2.717)</td>\n",
       "    </tr>\n",
       "    <tr>\n",
       "      <th>17</th>\n",
       "      <td>(سینما, 2.467)</td>\n",
       "      <td>(حوزه مسجد, 2.264)</td>\n",
       "      <td>(بورس, 2.474)</td>\n",
       "      <td>(بسیج, 2.627)</td>\n",
       "      <td>(بیشکک, 2.301)</td>\n",
       "      <td>(استفاده, 2.053)</td>\n",
       "      <td>(پرورش, 2.717)</td>\n",
       "      <td>(استقلال, 2.705)</td>\n",
       "      <td>(ترکیه, 2.709)</td>\n",
       "    </tr>\n",
       "    <tr>\n",
       "      <th>18</th>\n",
       "      <td>(آثار, 2.147)</td>\n",
       "      <td>(حضرت, 2.21)</td>\n",
       "      <td>(درصد, 2.47)</td>\n",
       "      <td>(سپاه, 2.562)</td>\n",
       "      <td>(خبرنگار, 2.016)</td>\n",
       "      <td>(گروه علم, 1.901)</td>\n",
       "      <td>(مترو, 2.584)</td>\n",
       "      <td>(ورزشی خبرگزاری, 2.691)</td>\n",
       "      <td>(رژیم صهیونیستی, 2.605)</td>\n",
       "    </tr>\n",
       "    <tr>\n",
       "      <th>19</th>\n",
       "      <td>(تهیه, 2.122)</td>\n",
       "      <td>(زیارت, 2.202)</td>\n",
       "      <td>(به نقل, 2.403)</td>\n",
       "      <td>(نماینده, 2.552)</td>\n",
       "      <td>(منطقه ای, 1.994)</td>\n",
       "      <td>(اطلاعات, 1.888)</td>\n",
       "      <td>(ناجا, 2.46)</td>\n",
       "      <td>(بارسلونا, 2.328)</td>\n",
       "      <td>(لبنان, 2.545)</td>\n",
       "    </tr>\n",
       "    <tr>\n",
       "      <th>20</th>\n",
       "      <td>(اثر, 2.054)</td>\n",
       "      <td>(دینی خبرگزاری, 2.125)</td>\n",
       "      <td>(نقل از, 2.4)</td>\n",
       "      <td>(انقلاب, 2.459)</td>\n",
       "      <td>(در, 1.891)</td>\n",
       "      <td>(علم پیشرفت, 1.879)</td>\n",
       "      <td>(شهرداری تهران, 2.345)</td>\n",
       "      <td>(رقابت, 2.245)</td>\n",
       "      <td>(گفت که, 2.525)</td>\n",
       "    </tr>\n",
       "    <tr>\n",
       "      <th>21</th>\n",
       "      <td>(هنرهای, 2.035)</td>\n",
       "      <td>(کتاب ادبیات, 2.115)</td>\n",
       "      <td>(مسکن, 2.371)</td>\n",
       "      <td>(دانشجویی, 2.457)</td>\n",
       "      <td>(نفر, 1.881)</td>\n",
       "      <td>(پیشرفت خبرگزاری, 1.875)</td>\n",
       "      <td>(دارو, 2.326)</td>\n",
       "      <td>(سرمربی, 2.227)</td>\n",
       "      <td>(نیروهای, 2.479)</td>\n",
       "    </tr>\n",
       "    <tr>\n",
       "      <th>22</th>\n",
       "      <td>(سیما, 1.914)</td>\n",
       "      <td>(شهید, 2.056)</td>\n",
       "      <td>(صادرات, 2.342)</td>\n",
       "      <td>(جمهور, 2.372)</td>\n",
       "      <td>(اف, 1.875)</td>\n",
       "      <td>(فضایی, 1.813)</td>\n",
       "      <td>(بیماران, 2.259)</td>\n",
       "      <td>(قهرمانی, 2.151)</td>\n",
       "      <td>(وزیر, 2.343)</td>\n",
       "    </tr>\n",
       "    <tr>\n",
       "      <th>23</th>\n",
       "      <td>(کارگردان, 1.905)</td>\n",
       "      <td>(خبرنگار قرآن, 2.035)</td>\n",
       "      <td>(مالیاتی, 2.205)</td>\n",
       "      <td>(الله, 2.353)</td>\n",
       "      <td>(در بیشکک, 1.831)</td>\n",
       "      <td>(دانشجویان, 1.81)</td>\n",
       "      <td>(گروه سلامت, 2.192)</td>\n",
       "      <td>(ورزشکاران, 2.124)</td>\n",
       "      <td>(روسیه, 2.335)</td>\n",
       "    </tr>\n",
       "    <tr>\n",
       "      <th>24</th>\n",
       "      <td>(رادیو تلویزیون, 1.895)</td>\n",
       "      <td>(انتشارات, 2.032)</td>\n",
       "      <td>(کشاورزی, 2.163)</td>\n",
       "      <td>(اسلامی در, 2.337)</td>\n",
       "      <td>(کشور, 1.798)</td>\n",
       "      <td>(علم, 1.801)</td>\n",
       "      <td>(واکسن, 2.149)</td>\n",
       "      <td>(مربی, 1.983)</td>\n",
       "      <td>(سوریه, 2.331)</td>\n",
       "    </tr>\n",
       "    <tr>\n",
       "      <th>25</th>\n",
       "      <td>(این سریال, 1.886)</td>\n",
       "      <td>(خبرنگار حوزه, 2.005)</td>\n",
       "      <td>(افزایش, 2.142)</td>\n",
       "      <td>(حوزه, 2.253)</td>\n",
       "      <td>(کابل, 1.789)</td>\n",
       "      <td>(دانش بنیان, 1.767)</td>\n",
       "      <td>(گروه شهری, 2.087)</td>\n",
       "      <td>(برتر, 1.971)</td>\n",
       "      <td>(فلسطین, 2.29)</td>\n",
       "    </tr>\n",
       "    <tr>\n",
       "      <th>26</th>\n",
       "      <td>(هنرمند, 1.865)</td>\n",
       "      <td>(حجت الاسلام, 1.984)</td>\n",
       "      <td>(گمرک, 1.921)</td>\n",
       "      <td>(نمایندگان, 2.243)</td>\n",
       "      <td>(در تاشکند, 1.757)</td>\n",
       "      <td>(بنیان, 1.735)</td>\n",
       "      <td>(پزشکی, 2.078)</td>\n",
       "      <td>(کمیته, 1.966)</td>\n",
       "      <td>(علیه, 2.233)</td>\n",
       "    </tr>\n",
       "    <tr>\n",
       "      <th>27</th>\n",
       "      <td>(هنر, 1.862)</td>\n",
       "      <td>(تلاوت, 1.972)</td>\n",
       "      <td>(خبرنگار اقتصاد, 1.912)</td>\n",
       "      <td>(تشکل, 2.234)</td>\n",
       "      <td>(افغانستان خبرگزاری, 1.719)</td>\n",
       "      <td>(های, 1.656)</td>\n",
       "      <td>(خبرنگار شهری, 2.059)</td>\n",
       "      <td>(تیم ملی, 1.965)</td>\n",
       "      <td>(خارجه, 2.219)</td>\n",
       "    </tr>\n",
       "    <tr>\n",
       "      <th>28</th>\n",
       "      <td>(خبرنگار رادیو, 1.855)</td>\n",
       "      <td>(مداحان, 1.969)</td>\n",
       "      <td>(از رویترز, 1.909)</td>\n",
       "      <td>(جلسه, 2.212)</td>\n",
       "      <td>(سایت افغانستان, 1.719)</td>\n",
       "      <td>(این شرکت, 1.631)</td>\n",
       "      <td>(قوه قضاییه, 2.058)</td>\n",
       "      <td>(ستاره, 1.965)</td>\n",
       "      <td>(دولت, 2.14)</td>\n",
       "    </tr>\n",
       "    <tr>\n",
       "      <th>29</th>\n",
       "      <td>(رسانه ای, 1.781)</td>\n",
       "      <td>(الاسلام, 1.962)</td>\n",
       "      <td>(کشور, 1.896)</td>\n",
       "      <td>(گروه سیاسی, 2.075)</td>\n",
       "      <td>(همکاری, 1.711)</td>\n",
       "      <td>(گوشی, 1.605)</td>\n",
       "      <td>(قضاییه, 2.046)</td>\n",
       "      <td>(کشتی, 1.93)</td>\n",
       "      <td>(فلسطینی, 2.136)</td>\n",
       "    </tr>\n",
       "    <tr>\n",
       "      <th>30</th>\n",
       "      <td>(تلویزیون خبرگزاری, 1.73)</td>\n",
       "      <td>(فعالیت های, 1.944)</td>\n",
       "      <td>(سازمان, 1.893)</td>\n",
       "      <td>(ما, 2.022)</td>\n",
       "      <td>(خبرنگار سایت, 1.695)</td>\n",
       "      <td>(ماهواره, 1.563)</td>\n",
       "      <td>(خبرنگار قضایی, 2.035)</td>\n",
       "      <td>(لیگ برتر, 1.918)</td>\n",
       "      <td>(نظامی, 2.12)</td>\n",
       "    </tr>\n",
       "    <tr>\n",
       "      <th>31</th>\n",
       "      <td>(تهیه کنندگی, 1.687)</td>\n",
       "      <td>(تو, 1.923)</td>\n",
       "      <td>(هزار, 1.893)</td>\n",
       "      <td>(تشکل های, 2.021)</td>\n",
       "      <td>(خبرنگار دفاتر, 1.643)</td>\n",
       "      <td>(فناوری اطلاعات, 1.552)</td>\n",
       "      <td>(آموزان, 2.018)</td>\n",
       "      <td>(امتیاز, 1.865)</td>\n",
       "      <td>(درباره, 2.106)</td>\n",
       "    </tr>\n",
       "    <tr>\n",
       "      <th>32</th>\n",
       "      <td>(کنندگی, 1.684)</td>\n",
       "      <td>(حجت, 1.921)</td>\n",
       "      <td>(هواپیمایی, 1.86)</td>\n",
       "      <td>(گزارش حوزه, 1.995)</td>\n",
       "      <td>(دفاتر منطقه, 1.643)</td>\n",
       "      <td>(اینترنت, 1.512)</td>\n",
       "      <td>(سازمان, 2.015)</td>\n",
       "      <td>(قرارداد, 1.823)</td>\n",
       "      <td>(رئیس جمهور, 2.052)</td>\n",
       "    </tr>\n",
       "    <tr>\n",
       "      <th>33</th>\n",
       "      <td>(مخاطبان, 1.622)</td>\n",
       "      <td>(ادبیات خبرگزاری, 1.917)</td>\n",
       "      <td>(تومان, 1.829)</td>\n",
       "      <td>(های دانشگاهی, 1.989)</td>\n",
       "      <td>(منطقه, 1.581)</td>\n",
       "      <td>(نانو, 1.49)</td>\n",
       "      <td>(وی, 2.009)</td>\n",
       "      <td>(ورزشگاه, 1.819)</td>\n",
       "      <td>(ایالت, 1.987)</td>\n",
       "    </tr>\n",
       "    <tr>\n",
       "      <th>34</th>\n",
       "      <td>(صحنه, 1.544)</td>\n",
       "      <td>(آستان, 1.917)</td>\n",
       "      <td>(تعاون, 1.819)</td>\n",
       "      <td>(امروز, 1.976)</td>\n",
       "      <td>(جمهور, 1.503)</td>\n",
       "      <td>(آزمایش, 1.468)</td>\n",
       "      <td>(قضایی خبرگزاری, 2.008)</td>\n",
       "      <td>(آسیا, 1.817)</td>\n",
       "      <td>(که, 1.957)</td>\n",
       "    </tr>\n",
       "    <tr>\n",
       "      <th>35</th>\n",
       "      <td>(سینمای, 1.544)</td>\n",
       "      <td>(فرهنگ, 1.912)</td>\n",
       "      <td>(ایران, 1.795)</td>\n",
       "      <td>(آقای, 1.958)</td>\n",
       "      <td>(صلح, 1.493)</td>\n",
       "      <td>(آزمون, 1.466)</td>\n",
       "      <td>(دانش, 1.994)</td>\n",
       "      <td>(تمرینات, 1.809)</td>\n",
       "      <td>(کرد که, 1.924)</td>\n",
       "    </tr>\n",
       "    <tr>\n",
       "      <th>36</th>\n",
       "      <td>(او, 1.54)</td>\n",
       "      <td>(خبرنگار کتاب, 1.893)</td>\n",
       "      <td>(بانک مرکزی, 1.792)</td>\n",
       "      <td>(کشور, 1.932)</td>\n",
       "      <td>(امور خارجه, 1.473)</td>\n",
       "      <td>(دانش, 1.393)</td>\n",
       "      <td>(دانش آموزان, 1.99)</td>\n",
       "      <td>(رقابت های, 1.791)</td>\n",
       "      <td>(جزئیات بیشتر, 1.871)</td>\n",
       "    </tr>\n",
       "    <tr>\n",
       "      <th>37</th>\n",
       "      <td>(می, 1.53)</td>\n",
       "      <td>(مساجد, 1.885)</td>\n",
       "      <td>(جاده, 1.788)</td>\n",
       "      <td>(دانشگاه, 1.932)</td>\n",
       "      <td>(آسیای مرکزی, 1.434)</td>\n",
       "      <td>(تولید, 1.393)</td>\n",
       "      <td>(سرهنگ, 1.966)</td>\n",
       "      <td>(این بازی, 1.778)</td>\n",
       "      <td>(گزارش, 1.865)</td>\n",
       "    </tr>\n",
       "    <tr>\n",
       "      <th>38</th>\n",
       "      <td>(مدیر, 1.513)</td>\n",
       "      <td>(حج زیارت, 1.858)</td>\n",
       "      <td>(آهن, 1.716)</td>\n",
       "      <td>(شرح, 1.916)</td>\n",
       "      <td>(توسعه, 1.367)</td>\n",
       "      <td>(مریخ, 1.366)</td>\n",
       "      <td>(شهردار, 1.958)</td>\n",
       "      <td>(توکیو, 1.76)</td>\n",
       "      <td>(ارتش, 1.857)</td>\n",
       "    </tr>\n",
       "    <tr>\n",
       "      <th>39</th>\n",
       "      <td>(نمایشی, 1.505)</td>\n",
       "      <td>(اربعین, 1.793)</td>\n",
       "      <td>(آزادراه, 1.708)</td>\n",
       "      <td>(علنی, 1.864)</td>\n",
       "      <td>(آسیای, 1.363)</td>\n",
       "      <td>(می, 1.357)</td>\n",
       "      <td>(گردشگری, 1.95)</td>\n",
       "      <td>(تیم های, 1.725)</td>\n",
       "      <td>(گفت, 1.83)</td>\n",
       "    </tr>\n",
       "  </tbody>\n",
       "</table>\n",
       "</div>\n",
       "      <button class=\"colab-df-convert\" onclick=\"convertToInteractive('df-1b486255-691d-4cb1-bf23-82596717bd75')\"\n",
       "              title=\"Convert this dataframe to an interactive table.\"\n",
       "              style=\"display:none;\">\n",
       "        \n",
       "  <svg xmlns=\"http://www.w3.org/2000/svg\" height=\"24px\"viewBox=\"0 0 24 24\"\n",
       "       width=\"24px\">\n",
       "    <path d=\"M0 0h24v24H0V0z\" fill=\"none\"/>\n",
       "    <path d=\"M18.56 5.44l.94 2.06.94-2.06 2.06-.94-2.06-.94-.94-2.06-.94 2.06-2.06.94zm-11 1L8.5 8.5l.94-2.06 2.06-.94-2.06-.94L8.5 2.5l-.94 2.06-2.06.94zm10 10l.94 2.06.94-2.06 2.06-.94-2.06-.94-.94-2.06-.94 2.06-2.06.94z\"/><path d=\"M17.41 7.96l-1.37-1.37c-.4-.4-.92-.59-1.43-.59-.52 0-1.04.2-1.43.59L10.3 9.45l-7.72 7.72c-.78.78-.78 2.05 0 2.83L4 21.41c.39.39.9.59 1.41.59.51 0 1.02-.2 1.41-.59l7.78-7.78 2.81-2.81c.8-.78.8-2.07 0-2.86zM5.41 20L4 18.59l7.72-7.72 1.47 1.35L5.41 20z\"/>\n",
       "  </svg>\n",
       "      </button>\n",
       "      \n",
       "  <style>\n",
       "    .colab-df-container {\n",
       "      display:flex;\n",
       "      flex-wrap:wrap;\n",
       "      gap: 12px;\n",
       "    }\n",
       "\n",
       "    .colab-df-convert {\n",
       "      background-color: #E8F0FE;\n",
       "      border: none;\n",
       "      border-radius: 50%;\n",
       "      cursor: pointer;\n",
       "      display: none;\n",
       "      fill: #1967D2;\n",
       "      height: 32px;\n",
       "      padding: 0 0 0 0;\n",
       "      width: 32px;\n",
       "    }\n",
       "\n",
       "    .colab-df-convert:hover {\n",
       "      background-color: #E2EBFA;\n",
       "      box-shadow: 0px 1px 2px rgba(60, 64, 67, 0.3), 0px 1px 3px 1px rgba(60, 64, 67, 0.15);\n",
       "      fill: #174EA6;\n",
       "    }\n",
       "\n",
       "    [theme=dark] .colab-df-convert {\n",
       "      background-color: #3B4455;\n",
       "      fill: #D2E3FC;\n",
       "    }\n",
       "\n",
       "    [theme=dark] .colab-df-convert:hover {\n",
       "      background-color: #434B5C;\n",
       "      box-shadow: 0px 1px 3px 1px rgba(0, 0, 0, 0.15);\n",
       "      filter: drop-shadow(0px 1px 2px rgba(0, 0, 0, 0.3));\n",
       "      fill: #FFFFFF;\n",
       "    }\n",
       "  </style>\n",
       "\n",
       "      <script>\n",
       "        const buttonEl =\n",
       "          document.querySelector('#df-1b486255-691d-4cb1-bf23-82596717bd75 button.colab-df-convert');\n",
       "        buttonEl.style.display =\n",
       "          google.colab.kernel.accessAllowed ? 'block' : 'none';\n",
       "\n",
       "        async function convertToInteractive(key) {\n",
       "          const element = document.querySelector('#df-1b486255-691d-4cb1-bf23-82596717bd75');\n",
       "          const dataTable =\n",
       "            await google.colab.kernel.invokeFunction('convertToInteractive',\n",
       "                                                     [key], {});\n",
       "          if (!dataTable) return;\n",
       "\n",
       "          const docLinkHtml = 'Like what you see? Visit the ' +\n",
       "            '<a target=\"_blank\" href=https://colab.research.google.com/notebooks/data_table.ipynb>data table notebook</a>'\n",
       "            + ' to learn more about interactive tables.';\n",
       "          element.innerHTML = '';\n",
       "          dataTable['output_type'] = 'display_data';\n",
       "          await google.colab.output.renderOutput(dataTable, element);\n",
       "          const docLink = document.createElement('div');\n",
       "          docLink.innerHTML = docLinkHtml;\n",
       "          element.appendChild(docLink);\n",
       "        }\n",
       "      </script>\n",
       "    </div>\n",
       "  </div>\n",
       "  "
      ],
      "text/plain": [
       "                   arts-media  ...                    world\n",
       "0               (فیلم, 6.635)  ...         (گروه بین, 7.19)\n",
       "1              (تئاتر, 4.467)  ...  (الملل خبرگزاری, 6.016)\n",
       "2              (رسانه, 4.464)  ...          (آمریکا, 5.522)\n",
       "3              (سریال, 4.173)  ...       (بین الملل, 5.484)\n",
       "4              (مستند, 3.449)  ...           (الملل, 5.482)\n",
       "5              (نمایش, 3.442)  ...      (گزارش گروه, 5.388)\n",
       "6             (موسیقی, 3.323)  ...            (گروه, 4.092)\n",
       "7            (سینمایی, 3.266)  ...             (بین, 3.996)\n",
       "8               (هنری, 3.264)  ...            (عراق, 3.943)\n",
       "9              (رادیو, 3.149)  ...           (سعودی, 3.436)\n",
       "10          (تلویزیون, 2.935)  ...             (یمن, 3.421)\n",
       "11           (جشنواره, 2.886)  ...       (صهیونیستی, 3.122)\n",
       "12               (پخش, 2.737)  ...             (رژیم, 3.07)\n",
       "13            (برنامه, 2.686)  ...           (ترامپ, 2.929)\n",
       "14          (هنرمندان, 2.661)  ...        (به نوشته, 2.789)\n",
       "15              (شبکه, 2.522)  ...        (این کشور, 2.761)\n",
       "16         (کارگردانی, 2.492)  ...           (نوشته, 2.717)\n",
       "17             (سینما, 2.467)  ...           (ترکیه, 2.709)\n",
       "18              (آثار, 2.147)  ...  (رژیم صهیونیستی, 2.605)\n",
       "19              (تهیه, 2.122)  ...           (لبنان, 2.545)\n",
       "20               (اثر, 2.054)  ...          (گفت که, 2.525)\n",
       "21            (هنرهای, 2.035)  ...         (نیروهای, 2.479)\n",
       "22              (سیما, 1.914)  ...            (وزیر, 2.343)\n",
       "23          (کارگردان, 1.905)  ...           (روسیه, 2.335)\n",
       "24    (رادیو تلویزیون, 1.895)  ...           (سوریه, 2.331)\n",
       "25         (این سریال, 1.886)  ...           (فلسطین, 2.29)\n",
       "26            (هنرمند, 1.865)  ...            (علیه, 2.233)\n",
       "27               (هنر, 1.862)  ...           (خارجه, 2.219)\n",
       "28     (خبرنگار رادیو, 1.855)  ...             (دولت, 2.14)\n",
       "29          (رسانه ای, 1.781)  ...         (فلسطینی, 2.136)\n",
       "30  (تلویزیون خبرگزاری, 1.73)  ...            (نظامی, 2.12)\n",
       "31       (تهیه کنندگی, 1.687)  ...          (درباره, 2.106)\n",
       "32            (کنندگی, 1.684)  ...      (رئیس جمهور, 2.052)\n",
       "33           (مخاطبان, 1.622)  ...           (ایالت, 1.987)\n",
       "34              (صحنه, 1.544)  ...              (که, 1.957)\n",
       "35            (سینمای, 1.544)  ...          (کرد که, 1.924)\n",
       "36                 (او, 1.54)  ...    (جزئیات بیشتر, 1.871)\n",
       "37                 (می, 1.53)  ...           (گزارش, 1.865)\n",
       "38              (مدیر, 1.513)  ...            (ارتش, 1.857)\n",
       "39            (نمایشی, 1.505)  ...              (گفت, 1.83)\n",
       "\n",
       "[40 rows x 9 columns]"
      ]
     },
     "execution_count": 32,
     "metadata": {},
     "output_type": "execute_result"
    }
   ],
   "source": [
    "lr_keywords = {}\n",
    "\n",
    "for i, opt in enumerate(classes):\n",
    "     lr_keywords[opt] = important_words[i]\n",
    "\n",
    "lr_keywords = pd.DataFrame(lr_keywords) \n",
    "lr_keywords"
   ]
  },
  {
   "cell_type": "markdown",
   "metadata": {
    "id": "Wp_DpoiQjNEm"
   },
   "source": [
    "# Neural Networks (Method 2)"
   ]
  },
  {
   "cell_type": "code",
   "execution_count": null,
   "metadata": {
    "colab": {
     "base_uri": "https://localhost:8080/"
    },
    "id": "VdQTld3IjPXa",
    "outputId": "e892469d-c540-49fb-9a15-bb05530c0603"
   },
   "outputs": [
    {
     "name": "stderr",
     "output_type": "stream",
     "text": [
      "100%|██████████| 14000/14000 [03:14<00:00, 71.87it/s]\n",
      "100%|██████████| 2000/2000 [00:25<00:00, 77.28it/s]\n"
     ]
    }
   ],
   "source": [
    "nn_train_data, nn_test_data, nn_test_data = get_data(train_data, eval_data, test_data, sample_size=0.7, preproces={\n",
    "    'remove_stopwords': True,\n",
    "    'remove_punctuations': True,\n",
    "    'remove_numbers': True})"
   ]
  },
  {
   "cell_type": "code",
   "execution_count": null,
   "metadata": {
    "id": "6ac94sjfuj4k"
   },
   "outputs": [],
   "source": [
    "import numpy as np\n",
    "from sklearn.model_selection import train_test_split\n",
    "from keras.datasets import imdb\n",
    "from keras.models import Sequential\n",
    "from keras.layers import Dense,Conv1D,MaxPooling1D\n",
    "from keras.layers import LSTM,Dropout\n",
    "from keras.layers.embeddings import Embedding\n",
    "from keras.preprocessing import sequence\n",
    "from keras.callbacks import ModelCheckpoint\n",
    "import json\n",
    "from tensorflow.keras.utils import to_categorical\n",
    "from tensorflow.keras.preprocessing.text import Tokenizer\n",
    "import pickle\n",
    "import tensorflow as tf\n",
    "from tensorflow import keras\n",
    "from tensorflow.keras import layers"
   ]
  },
  {
   "cell_type": "code",
   "execution_count": null,
   "metadata": {
    "id": "uUTydkKJz9-t"
   },
   "outputs": [],
   "source": [
    "\n",
    "train_y = []\n",
    "train_X = []\n",
    "test_y = []\n",
    "test_X = []\n",
    "\n",
    "for j,news in enumerate(nn_train_data):\n",
    "    train_y.append(news.label)\n",
    "    train_X.append(news.text)\n",
    "train_y  = to_categorical(train_y, num_classes=None)   \n",
    "\n",
    "###################################################\n",
    "for j,news in enumerate(nn_test_data):\n",
    "    test_y.append(news.label)\n",
    "    test_X.append(news.text)\n",
    "test_y  = to_categorical(test_y, num_classes=None)   \n",
    "#############################################\n",
    "vocab_selection = 10000\n",
    "tokenizer = Tokenizer(num_words=vocab_selection,oov_token='N')\n",
    "tokenizer.fit_on_texts(train_X)\n",
    "pickle.dump(tokenizer, open('token_nn.pkl', 'wb'))\n",
    "sequence_data_train = []\n",
    "sequence_data_test = []\n",
    "for abs_ in train_X:\n",
    "    sequence_data_train.append(tokenizer.texts_to_sequences([abs_])[0])\n",
    "\n",
    "for abs_ in test_X:\n",
    "    sequence_data_test.append(tokenizer.texts_to_sequences([abs_])[0])"
   ]
  },
  {
   "cell_type": "code",
   "execution_count": null,
   "metadata": {
    "id": "bM-uOjKquzlt"
   },
   "outputs": [],
   "source": [
    "sequence_data_train = tf.keras.preprocessing.sequence.pad_sequences(sequence_data_train, maxlen=4000, dtype='int32', padding='pre',truncating='pre', value=0.0)\n",
    "sequence_data_test = tf.keras.preprocessing.sequence.pad_sequences(sequence_data_test, maxlen=4000, dtype='int32', padding='pre',truncating='pre', value=0.0)"
   ]
  },
  {
   "cell_type": "code",
   "execution_count": null,
   "metadata": {
    "id": "LZkils4_K6GT"
   },
   "outputs": [],
   "source": [
    "import tensorflow as tf\n",
    "import tensorflow.keras as keras\n",
    "from tensorflow.keras.preprocessing.text import Tokenizer\n",
    "from tensorflow.keras.preprocessing.sequence import pad_sequences\n",
    "from tensorflow.keras.layers import Concatenate, Dense, Input, LSTM, Embedding, Dropout, Activation, GRU, Flatten\n",
    "from tensorflow.keras.layers import Bidirectional, GlobalMaxPool1D\n",
    "from tensorflow.keras.models import Model, Sequential\n",
    "from tensorflow.keras.layers import Convolution1D\n",
    "from tensorflow.keras import initializers, regularizers, constraints, optimizers, layers\n",
    "\n",
    "MAX_LEN =4000\n",
    "MAX_FEATURES = 10000\n",
    "EMBED_SIZE = 128\n",
    "RNN_CELL_SIZE = 128\n",
    "\n",
    "class Attention(tf.keras.Model):\n",
    "    def __init__(self, units):\n",
    "        super(Attention, self).__init__()\n",
    "        self.W1 = tf.keras.layers.Dense(units)\n",
    "        self.W2 = tf.keras.layers.Dense(units)\n",
    "        self.V = tf.keras.layers.Dense(1)\n",
    "\n",
    "    def call(self, features, hidden):\n",
    "        # hidden shape == (batch_size, hidden size)\n",
    "        # hidden_with_time_axis shape == (batch_size, 1, hidden size)\n",
    "        # we are doing this to perform addition to calculate the score\n",
    "        hidden_with_time_axis = tf.expand_dims(hidden, 1)\n",
    "          \n",
    "        # score shape == (batch_size, max_length, 1)\n",
    "        # we get 1 at the last axis because we are applying score to self.V\n",
    "        # the shape of the tensor before applying self.V is (batch_size, max_length, units)\n",
    "        score = tf.nn.tanh(\n",
    "            self.W1(features) + self.W2(hidden_with_time_axis))\n",
    "        # attention_weights shape == (batch_size, max_length, 1)\n",
    "        attention_weights = tf.nn.softmax(self.V(score), axis=1)\n",
    "          \n",
    "        # context_vector shape after sum == (batch_size, hidden_size)\n",
    "        context_vector = attention_weights * features\n",
    "        context_vector = tf.reduce_sum(context_vector, axis=1)\n",
    "        return context_vector, attention_weights\n",
    "    \n",
    "sequence_input = Input(shape=(MAX_LEN,), dtype=\"int32\")\n",
    "embedded_sequences = Embedding(MAX_FEATURES, EMBED_SIZE)(sequence_input)\n",
    "lstm = Bidirectional(LSTM(RNN_CELL_SIZE, return_sequences = True), name=\"bi_lstm_0\")(embedded_sequences)\n",
    "\n",
    "# Getting our LSTM outputs\n",
    "(lstm, forward_h, forward_c, backward_h, backward_c) = Bidirectional(LSTM(RNN_CELL_SIZE, return_sequences=True, return_state=True), name=\"bi_lstm_1\")(lstm)\n",
    "\n",
    "state_h = Concatenate()([forward_h, backward_h])\n",
    "state_c = Concatenate()([forward_c, backward_c])\n",
    "context_vector, attention_weights = Attention(10)(lstm, state_h)\n",
    "dense1 = Dense(256, activation=\"relu\")(context_vector)\n",
    "dropout = Dropout(0.05)(dense1)\n",
    "output = Dense(9, activation=\"sigmoid\")(dropout)\n",
    "  \n",
    "model = keras.Model(inputs=sequence_input, outputs=output)"
   ]
  },
  {
   "cell_type": "code",
   "execution_count": null,
   "metadata": {
    "colab": {
     "base_uri": "https://localhost:8080/"
    },
    "id": "3PPYy9u0mLZJ",
    "outputId": "37e48b42-49bf-4200-dd73-eda390ee4797"
   },
   "outputs": [
    {
     "name": "stdout",
     "output_type": "stream",
     "text": [
      "Model: \"model_2\"\n",
      "__________________________________________________________________________________________________\n",
      " Layer (type)                   Output Shape         Param #     Connected to                     \n",
      "==================================================================================================\n",
      " input_3 (InputLayer)           [(None, 4000)]       0           []                               \n",
      "                                                                                                  \n",
      " embedding_2 (Embedding)        (None, 4000, 128)    1280000     ['input_3[0][0]']                \n",
      "                                                                                                  \n",
      " bi_lstm_0 (Bidirectional)      (None, 4000, 256)    263168      ['embedding_2[0][0]']            \n",
      "                                                                                                  \n",
      " bi_lstm_1 (Bidirectional)      [(None, 4000, 256),  394240      ['bi_lstm_0[0][0]']              \n",
      "                                 (None, 128),                                                     \n",
      "                                 (None, 128),                                                     \n",
      "                                 (None, 128),                                                     \n",
      "                                 (None, 128)]                                                     \n",
      "                                                                                                  \n",
      " concatenate_4 (Concatenate)    (None, 256)          0           ['bi_lstm_1[0][1]',              \n",
      "                                                                  'bi_lstm_1[0][3]']              \n",
      "                                                                                                  \n",
      " attention_2 (Attention)        ((None, 256),        5151        ['bi_lstm_1[0][0]',              \n",
      "                                 (None, 4000, 1))                 'concatenate_4[0][0]']          \n",
      "                                                                                                  \n",
      " dense_13 (Dense)               (None, 256)          65792       ['attention_2[0][0]']            \n",
      "                                                                                                  \n",
      " dropout_2 (Dropout)            (None, 256)          0           ['dense_13[0][0]']               \n",
      "                                                                                                  \n",
      " dense_14 (Dense)               (None, 9)            2313        ['dropout_2[0][0]']              \n",
      "                                                                                                  \n",
      "==================================================================================================\n",
      "Total params: 2,010,664\n",
      "Trainable params: 2,010,664\n",
      "Non-trainable params: 0\n",
      "__________________________________________________________________________________________________\n",
      "None\n"
     ]
    }
   ],
   "source": [
    "print(model.summary())"
   ]
  },
  {
   "cell_type": "code",
   "execution_count": null,
   "metadata": {
    "colab": {
     "base_uri": "https://localhost:8080/",
     "height": 812
    },
    "id": "WCVyW_IwmM5a",
    "outputId": "e13d575d-5643-483e-fed9-719b5e5ffeb6"
   },
   "outputs": [
    {
     "data": {
      "image/png": "[encoded data removed]",
      "text/plain": [
       "<IPython.core.display.Image object>"
      ]
     },
     "execution_count": 62,
     "metadata": {},
     "output_type": "execute_result"
    }
   ],
   "source": [
    "keras.utils.plot_model(model, show_shapes=True, dpi=90)"
   ]
  },
  {
   "cell_type": "code",
   "execution_count": null,
   "metadata": {
    "id": "NM5-i2OWLK4n"
   },
   "outputs": [],
   "source": [
    "METRICS = [\n",
    "    keras.metrics.BinaryAccuracy(name='accuracy')\n",
    "]\n",
    "\n",
    "model.compile(loss='binary_crossentropy',\n",
    "              optimizer='adam',\n",
    "              metrics=METRICS)"
   ]
  },
  {
   "cell_type": "code",
   "execution_count": null,
   "metadata": {
    "colab": {
     "base_uri": "https://localhost:8080/"
    },
    "id": "90bDmJTSSBDD",
    "outputId": "1b5e8d36-1ea6-4fc1-a992-5874a0e70de8"
   },
   "outputs": [
    {
     "name": "stdout",
     "output_type": "stream",
     "text": [
      "Mounted at /content/drive\n"
     ]
    }
   ],
   "source": [
    "from google.colab import drive\n",
    "drive.mount('/content/drive')"
   ]
  },
  {
   "cell_type": "code",
   "execution_count": null,
   "metadata": {
    "colab": {
     "base_uri": "https://localhost:8080/"
    },
    "id": "61IGE7iWLPGR",
    "outputId": "816ea3bc-48a3-4ac4-985c-bd74793c696d"
   },
   "outputs": [
    {
     "name": "stdout",
     "output_type": "stream",
     "text": [
      "Epoch 1/5\n",
      "350/350 [==============================] - 774s 2s/step - loss: 0.3072 - accuracy: 0.8977 - val_loss: 0.2246 - val_accuracy: 0.9240\n",
      "Epoch 2/5\n",
      "350/350 [==============================] - 767s 2s/step - loss: 0.1802 - accuracy: 0.9327 - val_loss: 0.1612 - val_accuracy: 0.9366\n",
      "Epoch 3/5\n",
      "350/350 [==============================] - 768s 2s/step - loss: 0.1297 - accuracy: 0.9441 - val_loss: 0.1161 - val_accuracy: 0.9546\n",
      "Epoch 4/5\n",
      "350/350 [==============================] - 768s 2s/step - loss: 0.0769 - accuracy: 0.9705 - val_loss: 0.0704 - val_accuracy: 0.9739\n",
      "Epoch 5/5\n",
      "350/350 [==============================] - 767s 2s/step - loss: 0.0474 - accuracy: 0.9837 - val_loss: 0.0639 - val_accuracy: 0.9778\n"
     ]
    }
   ],
   "source": [
    "history = model.fit(sequence_data_train,train_y,batch_size=32,epochs=5,validation_split=0.2)"
   ]
  },
  {
   "cell_type": "code",
   "execution_count": null,
   "metadata": {
    "id": "RdWHehn7fKTu"
   },
   "outputs": [],
   "source": [
    "model.save_weights('model_weight.h5')"
   ]
  },
  {
   "cell_type": "code",
   "execution_count": null,
   "metadata": {
    "id": "gBVk4VYXf89T"
   },
   "outputs": [],
   "source": [
    "model.load_weights(\"/content/drive/MyDrive/model_weight_lstm_atten.h5\")"
   ]
  },
  {
   "cell_type": "code",
   "execution_count": null,
   "metadata": {
    "id": "uvvKVpFLhvOM"
   },
   "outputs": [],
   "source": [
    "result_predict = model.predict(sequence_data_test)"
   ]
  },
  {
   "cell_type": "code",
   "execution_count": null,
   "metadata": {
    "id": "RQ83cjAuiQJj"
   },
   "outputs": [],
   "source": [
    "all_pred = result_predict.argmax(axis =1)\n",
    "test_y = test_y.argmax(axis =1)"
   ]
  },
  {
   "cell_type": "code",
   "execution_count": null,
   "metadata": {
    "colab": {
     "base_uri": "https://localhost:8080/"
    },
    "id": "z3jPFE2QiGBn",
    "outputId": "0cf330a2-8b7a-45a2-92a7-7bd121ba23dc"
   },
   "outputs": [
    {
     "name": "stdout",
     "output_type": "stream",
     "text": [
      "F1-macro 0.8588882426114224\n",
      "F1-micro 0.895\n",
      "Accuracy 0.895\n"
     ]
    }
   ],
   "source": [
    "f1_macro = f1_score(all_pred, test_y, average='macro')\n",
    "f1_micro = f1_score(all_pred, test_y, average='micro')\n",
    "accuracy = accuracy_score(all_pred, test_y)\n",
    "print(f'F1-macro {f1_macro}')\n",
    "print(f'F1-micro {f1_micro}')\n",
    "print(f'Accuracy {accuracy}')"
   ]
  },
  {
   "cell_type": "code",
   "execution_count": null,
   "metadata": {
    "colab": {
     "base_uri": "https://localhost:8080/",
     "height": 642
    },
    "id": "WhY_ZRM5jvDA",
    "outputId": "20165a57-a674-4598-befe-bb6b5acb3f4f"
   },
   "outputs": [
    {
     "data": {
      "text/plain": [
       "<matplotlib.axes._subplots.AxesSubplot at 0x7f66c82217d0>"
      ]
     },
     "execution_count": 60,
     "metadata": {},
     "output_type": "execute_result"
    },
    {
     "data": {
      "image/png": "[encoded data removed]",
      "text/plain": [
       "<Figure size 864x648 with 2 Axes>"
      ]
     },
     "metadata": {
      "needs_background": "light"
     },
     "output_type": "display_data"
    }
   ],
   "source": [
    "\n",
    "c_mat = confusion_matrix(all_pred, test_y)\n",
    "df_cm = pd.DataFrame(c_mat, index = [i for i in classes],\n",
    "                  columns = [i for i in classes])\n",
    "plt.figure(figsize = (12,9))\n",
    "sn.heatmap(df_cm, annot=True)"
   ]
  },
  {
   "cell_type": "markdown",
   "metadata": {
    "id": "1hwyFbVbjPuN"
   },
   "source": [
    "# Transformer (Method 3)"
   ]
  },
  {
   "cell_type": "markdown",
   "metadata": {
    "id": "jwuWPgO30_Yo"
   },
   "source": [
    "## Loading Data for Transformer"
   ]
  },
  {
   "cell_type": "code",
   "execution_count": null,
   "metadata": {
    "colab": {
     "base_uri": "https://localhost:8080/"
    },
    "id": "-6_5Hk-Y4-NO",
    "outputId": "62890468-7e51-4b32-c3bc-ad9ba11ca350"
   },
   "outputs": [
    {
     "name": "stderr",
     "output_type": "stream",
     "text": [
      "100%|██████████| 10000/10000 [02:28<00:00, 67.41it/s]\n",
      "100%|██████████| 2000/2000 [00:29<00:00, 67.27it/s]\n",
      "100%|██████████| 2000/2000 [00:29<00:00, 67.75it/s]\n"
     ]
    }
   ],
   "source": [
    "trans_train_data, trans_eval_data, trans_test_data = get_data(train_data, eval_data, test_data, sample_size=.5, preproces={\n",
    "    'remove_stopwords': True,\n",
    "    'remove_punctuations': True,\n",
    "    'remove_numbers': True})"
   ]
  },
  {
   "cell_type": "markdown",
   "metadata": {
    "id": "EfNYTli20nCT"
   },
   "source": [
    "## Load Tokenizer and ParsBert"
   ]
  },
  {
   "cell_type": "code",
   "execution_count": null,
   "metadata": {
    "colab": {
     "base_uri": "https://localhost:8080/"
    },
    "id": "nn7BhbtBo1wh",
    "outputId": "11cec8ca-e358-410c-e0c5-48b8a0936fd9"
   },
   "outputs": [
    {
     "name": "stderr",
     "output_type": "stream",
     "text": [
      "Some weights of the model checkpoint at HooshvareLab/bert-fa-zwnj-base were not used when initializing BertModel: ['cls.predictions.transform.LayerNorm.weight', 'cls.predictions.transform.dense.bias', 'cls.predictions.decoder.weight', 'cls.predictions.bias', 'cls.predictions.transform.dense.weight', 'cls.predictions.transform.LayerNorm.bias', 'cls.predictions.decoder.bias']\n",
      "- This IS expected if you are initializing BertModel from the checkpoint of a model trained on another task or with another architecture (e.g. initializing a BertForSequenceClassification model from a BertForPreTraining model).\n",
      "- This IS NOT expected if you are initializing BertModel from the checkpoint of a model that you expect to be exactly identical (initializing a BertForSequenceClassification model from a BertForSequenceClassification model).\n",
      "Some weights of BertModel were not initialized from the model checkpoint at HooshvareLab/bert-fa-zwnj-base and are newly initialized: ['bert.pooler.dense.bias', 'bert.pooler.dense.weight']\n",
      "You should probably TRAIN this model on a down-stream task to be able to use it for predictions and inference.\n"
     ]
    }
   ],
   "source": [
    "# loading pars bert and tokenizer\n",
    "from transformers import AutoConfig, AutoTokenizer, AutoModel, TFAutoModel\n",
    "# v3.0\n",
    "model_name_or_path = \"HooshvareLab/bert-fa-zwnj-base\"\n",
    "config = AutoConfig.from_pretrained(model_name_or_path)\n",
    "tokenizer = AutoTokenizer.from_pretrained(model_name_or_path)\n",
    "# model = TFAutoModel.from_pretrained(model_name_or_path)  For TF\n",
    "parsbert = AutoModel.from_pretrained(model_name_or_path)"
   ]
  },
  {
   "cell_type": "markdown",
   "metadata": {
    "id": "dyDekkJc0gmo"
   },
   "source": [
    "## Transformer Dataloader"
   ]
  },
  {
   "cell_type": "code",
   "execution_count": null,
   "metadata": {
    "id": "-15-g8zWjTSw"
   },
   "outputs": [],
   "source": [
    "# a class for loading data\n",
    "class NewsDataloader(Dataset):\n",
    "\n",
    "  def __init__(self,dataset,tokenizer):\n",
    "    self.dataset = dataset\n",
    "    self.tokenizer = tokenizer\n",
    "\n",
    "  def __len__(self):\n",
    "    return len(self.dataset)\n",
    "\n",
    "  def __getitem__(self, idx):\n",
    "    text_tokens = self.tokenizer.encode_plus(\n",
    "        self.dataset[idx].text,\n",
    "        add_special_tokens=True,\n",
    "        max_length=512,\n",
    "        pad_to_max_length=True,\n",
    "        return_tensors=\"pt\",\n",
    "        truncation=True\n",
    "    )\n",
    "\n",
    "    return [text_tokens, self.dataset[idx].label]"
   ]
  },
  {
   "cell_type": "code",
   "execution_count": null,
   "metadata": {
    "id": "szQN6LdQt492"
   },
   "outputs": [],
   "source": [
    "# defining our transformer model\n",
    "class TransformerModel(nn.Module):\n",
    "\n",
    "  def __init__(self, bert):\n",
    "    super(TransformerModel, self).__init__()\n",
    "    self.bert = bert\n",
    "    # we only use one linear head on the parsbert\n",
    "    self.linear_head = nn.Linear(768, len(label_encoder.classes_))\n",
    "\n",
    "  def forward(self, x):\n",
    "    # main task\n",
    "    x = self.bert(x['input_ids'],x['attention_mask'])\n",
    "    logits = self.linear_head(x.pooler_output)\n",
    "    return logits"
   ]
  },
  {
   "cell_type": "markdown",
   "metadata": {
    "id": "zTCCEGpF0Hkf"
   },
   "source": [
    "## Training Transformer (Don't run this cell if you dont want the training)"
   ]
  },
  {
   "cell_type": "code",
   "execution_count": null,
   "metadata": {
    "colab": {
     "base_uri": "https://localhost:8080/"
    },
    "id": "xS6JV_Fo-nUv",
    "outputId": "c43ad7d4-87bf-4a38-f19a-5ed9411b612d"
   },
   "outputs": [
    {
     "name": "stderr",
     "output_type": "stream",
     "text": [
      "/usr/local/lib/python3.7/dist-packages/transformers/tokenization_utils_base.py:2232: FutureWarning: The `pad_to_max_length` argument is deprecated and will be removed in a future version, use `padding=True` or `padding='longest'` to pad to the longest sequence in the batch, or use `padding='max_length'` to pad to a max length. In this case, you can give a specific length with `max_length` (e.g. `max_length=45`) or leave max_length to None to pad to the maximal input size of the model (e.g. 512 for Bert).\n",
      "  FutureWarning,\n"
     ]
    },
    {
     "name": "stdout",
     "output_type": "stream",
     "text": [
      "EPOCH 1/2 | STEP [50/1000] | Loss 71.13495004177094\n",
      "EPOCH 1/2 | STEP [100/1000] | Loss 28.0577359944582\n",
      "EPOCH 1/2 | STEP [150/1000] | Loss 10.310000263154507\n",
      "EPOCH 1/2 | STEP [200/1000] | Loss 5.215326914563775\n",
      "EPOCH 1/2 | STEP [250/1000] | Loss 4.44970559515059\n",
      "EPOCH 1/2 | STEP [300/1000] | Loss 3.0309217236936092\n",
      "EPOCH 1/2 | STEP [350/1000] | Loss 3.8075169371441007\n",
      "EPOCH 1/2 | STEP [400/1000] | Loss 3.915111674927175\n",
      "EPOCH 1/2 | STEP [450/1000] | Loss 3.6638676710426807\n",
      "EPOCH 1/2 | STEP [500/1000] | Loss 3.6534984200261533\n",
      "EPOCH 1/2 | STEP [550/1000] | Loss 5.361837818287313\n",
      "EPOCH 1/2 | STEP [600/1000] | Loss 2.4273955803364515\n",
      "EPOCH 1/2 | STEP [650/1000] | Loss 3.855357360560447\n",
      "EPOCH 1/2 | STEP [700/1000] | Loss 2.6309267168398947\n",
      "EPOCH 1/2 | STEP [750/1000] | Loss 3.4291648329235613\n",
      "EPOCH 1/2 | STEP [800/1000] | Loss 2.689698083791882\n",
      "EPOCH 1/2 | STEP [850/1000] | Loss 3.4839326553046703\n",
      "EPOCH 1/2 | STEP [900/1000] | Loss 2.6722813870292157\n",
      "EPOCH 1/2 | STEP [950/1000] | Loss 3.298602524911985\n",
      "EPOCH 1/2 | STEP [1000/1000] | Loss 4.118621941190213\n",
      "################## Epoch 1 Evaluation ##################\n",
      "F1-macro 0.9702548696112641\n",
      "F1-micro 0.9775\n",
      "Accuracy 0.9775\n"
     ]
    },
    {
     "name": "stderr",
     "output_type": "stream",
     "text": [
      "/usr/local/lib/python3.7/dist-packages/transformers/tokenization_utils_base.py:2232: FutureWarning: The `pad_to_max_length` argument is deprecated and will be removed in a future version, use `padding=True` or `padding='longest'` to pad to the longest sequence in the batch, or use `padding='max_length'` to pad to a max length. In this case, you can give a specific length with `max_length` (e.g. `max_length=45`) or leave max_length to None to pad to the maximal input size of the model (e.g. 512 for Bert).\n",
      "  FutureWarning,\n"
     ]
    },
    {
     "name": "stdout",
     "output_type": "stream",
     "text": [
      "EPOCH 2/2 | STEP [50/1000] | Loss 1.398396211443469\n",
      "EPOCH 2/2 | STEP [100/1000] | Loss 2.0335444343509153\n",
      "EPOCH 2/2 | STEP [150/1000] | Loss 1.6568679793272167\n",
      "EPOCH 2/2 | STEP [200/1000] | Loss 2.3684949688613415\n",
      "EPOCH 2/2 | STEP [250/1000] | Loss 2.3121651944238693\n",
      "EPOCH 2/2 | STEP [300/1000] | Loss 1.0309682284714654\n",
      "EPOCH 2/2 | STEP [350/1000] | Loss 1.7400992622133344\n",
      "EPOCH 2/2 | STEP [400/1000] | Loss 1.7970541280228645\n",
      "EPOCH 2/2 | STEP [450/1000] | Loss 1.6394040533341467\n",
      "EPOCH 2/2 | STEP [500/1000] | Loss 0.9626003626035526\n",
      "EPOCH 2/2 | STEP [550/1000] | Loss 0.9019559797598049\n",
      "EPOCH 2/2 | STEP [600/1000] | Loss 0.3194997728569433\n",
      "EPOCH 2/2 | STEP [650/1000] | Loss 1.4619933110661805\n",
      "EPOCH 2/2 | STEP [700/1000] | Loss 4.555036552599631\n",
      "EPOCH 2/2 | STEP [750/1000] | Loss 1.2480655206600204\n",
      "EPOCH 2/2 | STEP [800/1000] | Loss 1.60913996421732\n",
      "EPOCH 2/2 | STEP [850/1000] | Loss 2.085591150796972\n",
      "EPOCH 2/2 | STEP [900/1000] | Loss 1.5168888220796362\n",
      "EPOCH 2/2 | STEP [950/1000] | Loss 2.2873691763961688\n",
      "EPOCH 2/2 | STEP [1000/1000] | Loss 0.501228928565979\n",
      "################## Epoch 2 Evaluation ##################\n",
      "F1-macro 0.9821202297753503\n",
      "F1-micro 0.9875\n",
      "Accuracy 0.9875\n"
     ]
    }
   ],
   "source": [
    "# Transformer Training\n",
    "epochs = 2\n",
    "lr = 2e-5\n",
    "device = 'cuda:0'\n",
    "k_step_loss = 0\n",
    "k = 50\n",
    "batch_size = 10\n",
    "# get train dataloader\n",
    "train_dataset = NewsDataloader(trans_train_data, tokenizer)\n",
    "train_dataloader = DataLoader(train_dataset, batch_size=batch_size, shuffle=True)\n",
    "# get eval dataloader\n",
    "eval_dataset = NewsDataloader(trans_eval_data, tokenizer)\n",
    "eval_dataloader = DataLoader(eval_dataset, batch_size=batch_size, shuffle=True)\n",
    "num_steps = int(np.ceil(len(train_dataloader.dataset) / batch_size))\n",
    "loss_collection = []\n",
    "eval_f1_micro = []\n",
    "eval_f1_macro = []\n",
    "eval_accuracy = []\n",
    "model = TransformerModel(parsbert).to(device)\n",
    "loss_fn = nn.CrossEntropyLoss().to(device)\n",
    "optimizer = AdamW(model.parameters(), lr=lr)\n",
    "scheduler = get_linear_schedule_with_warmup(\n",
    "    optimizer, num_warmup_steps=0, \n",
    "    num_training_steps=epochs * len(train_dataloader.dataset)\n",
    ")\n",
    "\n",
    "\n",
    "for epoch in range(epochs):\n",
    "  for step, data in enumerate(train_dataloader):\n",
    "    input_ids = data[0][\"input_ids\"].squeeze().to(device)\n",
    "    attention_mask = data[0][\"attention_mask\"].squeeze().to(device)\n",
    "    labels = data[1].to(device)\n",
    "    feed_dict = {\n",
    "        'input_ids': input_ids,\n",
    "        'attention_mask': attention_mask\n",
    "    }\n",
    "\n",
    "    optimizer.zero_grad()\n",
    "    output = model(feed_dict)\n",
    "    loss = loss_fn(output, labels)\n",
    "    # loss scheduler\n",
    "    loss_collection.append(loss.item())\n",
    "    loss.backward()\n",
    "    optimizer.step()\n",
    "    scheduler.step()\n",
    "    k_step_loss += loss.item()\n",
    "    if (step + 1) % k == 0:\n",
    "      loss_collection.append(k_step_loss)\n",
    "      print(f'EPOCH {epoch + 1}/{epochs} | STEP [{step + 1}/{num_steps}] | Loss {k_step_loss}')\n",
    "      k_step_loss = 0\n",
    "  \n",
    "  k_step_loss = 0\n",
    "  print(f'################## Epoch {epoch + 1} Evaluation ##################')\n",
    "  with torch.no_grad():\n",
    "    all_pred = []\n",
    "    all_label = []\n",
    "    for j, data in enumerate(eval_dataloader):\n",
    "      input_ids = data[0][\"input_ids\"].squeeze().to(device)\n",
    "      attention_mask = data[0][\"attention_mask\"].squeeze().to(device)\n",
    "      labels = data[1].to(device)\n",
    "      feed_dict = {\n",
    "          'input_ids': input_ids,\n",
    "          'attention_mask': attention_mask\n",
    "      }\n",
    "      output = model(feed_dict)\n",
    "      pred = output.argmax(dim=1, keepdim=True)\n",
    "      all_label.extend(list(labels.cpu().numpy()))\n",
    "      all_pred.extend(list(pred.view(-1).cpu().numpy()))\n",
    "\n",
    "\n",
    "    f1_macro = f1_score(all_label, all_pred, average='macro')\n",
    "    f1_micro = f1_score(all_label, all_pred, average='micro')\n",
    "    accuracy = accuracy_score(all_label, all_pred)\n",
    "    print(f'F1-macro {f1_macro}')\n",
    "    print(f'F1-micro {f1_micro}')\n",
    "    print(f'Accuracy {accuracy}')\n",
    "    eval_f1_macro.append(f1_macro)\n",
    "    eval_f1_micro.append(f1_micro)\n",
    "    eval_accuracy.append(accuracy)"
   ]
  },
  {
   "cell_type": "code",
   "execution_count": null,
   "metadata": {
    "colab": {
     "base_uri": "https://localhost:8080/"
    },
    "id": "1nGG4ByVm_o5",
    "outputId": "ffccf9a4-ab72-41be-950b-81a06087e067"
   },
   "outputs": [
    {
     "name": "stdout",
     "output_type": "stream",
     "text": [
      "Drive already mounted at /content/drive; to attempt to forcibly remount, call drive.mount(\"/content/drive\", force_remount=True).\n"
     ]
    }
   ],
   "source": [
    "# save model\n",
    "from google.colab import drive  \n",
    "drive._mount('/content/drive')\n",
    "torch.save(model, 'drive/MyDrive/checkpoint.pth')"
   ]
  },
  {
   "cell_type": "code",
   "execution_count": null,
   "metadata": {
    "colab": {
     "base_uri": "https://localhost:8080/",
     "height": 641
    },
    "id": "GfyU38PLFW72",
    "outputId": "fc878e10-637b-406f-e27f-8dd9d41bc424"
   },
   "outputs": [
    {
     "data": {
      "text/plain": [
       "<matplotlib.axes._subplots.AxesSubplot at 0x7f6236154210>"
      ]
     },
     "execution_count": 21,
     "metadata": {},
     "output_type": "execute_result"
    },
    {
     "data": {
      "image/png": "[encoded data removed]",
      "text/plain": [
       "<Figure size 864x648 with 2 Axes>"
      ]
     },
     "metadata": {
      "needs_background": "light"
     },
     "output_type": "display_data"
    }
   ],
   "source": [
    "# confusion matrix for last evaluation\n",
    "c_mat = confusion_matrix(all_label, all_pred)\n",
    "df_cm = pd.DataFrame(c_mat, index = [i for i in classes],\n",
    "                  columns = [i for i in classes])\n",
    "plt.figure(figsize = (12,9))\n",
    "sn.heatmap(df_cm, annot=True)"
   ]
  },
  {
   "cell_type": "markdown",
   "metadata": {
    "id": "FbRHR4eWyiJP"
   },
   "source": [
    "## Testing Transformer"
   ]
  },
  {
   "cell_type": "code",
   "execution_count": null,
   "metadata": {
    "colab": {
     "base_uri": "https://localhost:8080/"
    },
    "id": "HIXOtdNMnqxJ",
    "outputId": "ea1b7f24-68fb-4e76-89cf-0f1e8d1e7196"
   },
   "outputs": [
    {
     "name": "stdout",
     "output_type": "stream",
     "text": [
      "Downloading...\n",
      "From: https://drive.google.com/uc?id=1A4--gxG_O-XnKeagF0ktM-JndUrTutoH\n",
      "To: /content/checkpoint.pth\n",
      "100% 473M/473M [00:07<00:00, 60.2MB/s]\n"
     ]
    }
   ],
   "source": [
    "# laod trained model from drive if you want to test it \n",
    "! gdown --id 1A4--gxG_O-XnKeagF0ktM-JndUrTutoH\n",
    "model = torch.load('checkpoint.pth')\n"
   ]
  },
  {
   "cell_type": "code",
   "execution_count": null,
   "metadata": {
    "colab": {
     "base_uri": "https://localhost:8080/"
    },
    "id": "U5GaIk14ymrx",
    "outputId": "c66fa129-5e8d-4da2-e869-33b0548a01b1"
   },
   "outputs": [
    {
     "name": "stderr",
     "output_type": "stream",
     "text": [
      "/usr/local/lib/python3.7/dist-packages/transformers/tokenization_utils_base.py:2232: FutureWarning: The `pad_to_max_length` argument is deprecated and will be removed in a future version, use `padding=True` or `padding='longest'` to pad to the longest sequence in the batch, or use `padding='max_length'` to pad to a max length. In this case, you can give a specific length with `max_length` (e.g. `max_length=45`) or leave max_length to None to pad to the maximal input size of the model (e.g. 512 for Bert).\n",
      "  FutureWarning,\n"
     ]
    },
    {
     "name": "stdout",
     "output_type": "stream",
     "text": [
      "Test F1-macro 0.9847801420357956\n",
      "Test F1-micro 0.9875\n",
      "Test Accuracy 0.9875\n"
     ]
    }
   ],
   "source": [
    "# test dataloader\n",
    "test_dataset = NewsDataloader(trans_test_data, tokenizer)\n",
    "test_dataloader = DataLoader(test_dataset, batch_size=batch_size, shuffle=True)\n",
    "# loading pars bert and tokenizer\n",
    "from transformers import AutoConfig, AutoTokenizer, AutoModel, TFAutoModel\n",
    "# v3.0\n",
    "model_name_or_path = \"HooshvareLab/bert-fa-zwnj-base\"\n",
    "config = AutoConfig.from_pretrained(model_name_or_path)\n",
    "tokenizer = AutoTokenizer.from_pretrained(model_name_or_path)\n",
    "device = 'cuda:0'\n",
    "model = model.to(device)\n",
    "\n",
    "\n",
    "\n",
    "with torch.no_grad():\n",
    "  all_pred = []\n",
    "  all_label = []\n",
    "  for j, data in enumerate(test_dataloader):\n",
    "    input_ids = data[0][\"input_ids\"].squeeze().to(device)\n",
    "    attention_mask = data[0][\"attention_mask\"].squeeze().to(device)\n",
    "    labels = data[1].to(device)\n",
    "    feed_dict = {\n",
    "        'input_ids': input_ids,\n",
    "        'attention_mask': attention_mask\n",
    "    }\n",
    "    output = model(feed_dict)\n",
    "    pred = output.argmax(dim=1, keepdim=True)\n",
    "    all_label.extend(list(labels.cpu().numpy()))\n",
    "    all_pred.extend(list(pred.view(-1).cpu().numpy()))\n",
    "\n",
    "\n",
    "  f1_macro = f1_score(all_label, all_pred, average='macro')\n",
    "  f1_micro = f1_score(all_label, all_pred, average='micro')\n",
    "  accuracy = accuracy_score(all_label, all_pred)\n",
    "  print(f'Test F1-macro {f1_macro}')\n",
    "  print(f'Test F1-micro {f1_micro}')\n",
    "  print(f'Test Accuracy {accuracy}')"
   ]
  },
  {
   "cell_type": "code",
   "execution_count": null,
   "metadata": {
    "colab": {
     "base_uri": "https://localhost:8080/",
     "height": 657
    },
    "id": "VfN6ozo40WvD",
    "outputId": "2b7da813-e713-428f-9cd7-90bc3780e2cd"
   },
   "outputs": [
    {
     "data": {
      "text/plain": [
       "<matplotlib.axes._subplots.AxesSubplot at 0x7fa3cd7a8650>"
      ]
     },
     "execution_count": 53,
     "metadata": {},
     "output_type": "execute_result"
    },
    {
     "data": {
      "image/png": "[encoded data removed]",
      "text/plain": [
       "<Figure size 864x648 with 2 Axes>"
      ]
     },
     "metadata": {
      "needs_background": "light"
     },
     "output_type": "display_data"
    }
   ],
   "source": [
    "# confusion matrix for test data\n",
    "c_mat = confusion_matrix(all_label, all_pred)\n",
    "df_cm = pd.DataFrame(c_mat, index = [i for i in classes],\n",
    "                  columns = [i for i in classes])\n",
    "plt.figure(figsize = (12,9))\n",
    "plt.title('Test Confusion Matrix')\n",
    "sn.heatmap(df_cm, annot=True)"
   ]
  }
 ],
 "metadata": {
  "colab": {
   "collapsed_sections": [
    "83xD9vTJi70h",
    "3VbUyg6ejG1j",
    "exQ1hdMujCZ6",
    "Wp_DpoiQjNEm",
    "1hwyFbVbjPuN",
    "jwuWPgO30_Yo",
    "EfNYTli20nCT",
    "dyDekkJc0gmo",
    "zTCCEGpF0Hkf",
    "FbRHR4eWyiJP"
   ],
   "name": "NLP_HW4.ipynb",
   "provenance": []
  },
  "kernelspec": {
   "display_name": "Python 3 (ipykernel)",
   "language": "python",
   "name": "python3"
  },
  "language_info": {
   "codemirror_mode": {
    "name": "ipython",
    "version": 3
   },
   "file_extension": ".py",
   "mimetype": "text/x-python",
   "name": "python",
   "nbconvert_exporter": "python",
   "pygments_lexer": "ipython3",
   "version": "3.8.10"
  }
 },
 "nbformat": 4,
 "nbformat_minor": 1
}
